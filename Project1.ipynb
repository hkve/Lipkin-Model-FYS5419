{
 "cells": [
  {
   "cell_type": "markdown",
   "id": "bda14c9c",
   "metadata": {},
   "source": [
    "# Vårt superprosjekt"
   ]
  },
  {
   "cell_type": "markdown",
   "id": "44bcbbf1",
   "metadata": {},
   "source": [
    "## a\n",
    "\n",
    "We initalize and test the functionality of Qiskit as follows"
   ]
  },
  {
   "cell_type": "code",
   "execution_count": 83,
   "id": "5efd6380",
   "metadata": {},
   "outputs": [],
   "source": [
    "from qiskit import QuantumCircuit,Aer,assemble, ClassicalRegister,QuantumRegister\n",
    "from qiskit.visualization import array_to_latex, plot_histogram\n",
    "import numpy as np\n",
    "simulator = Aer.get_backend('aer_simulator')"
   ]
  },
  {
   "cell_type": "code",
   "execution_count": 77,
   "id": "35a02864",
   "metadata": {},
   "outputs": [
    {
     "data": {
      "text/html": [
       "<pre style=\"word-wrap: normal;white-space: pre;background: #fff0;line-height: 1.1;font-family: &quot;Courier New&quot;,Courier,monospace\">        ┌───┐┌───┐┌───┐┌───┐┌────────┐\n",
       "  Qreg: ┤ X ├┤ Y ├┤ Z ├┤ H ├┤ P(π/2) ├\n",
       "        └───┘└───┘└───┘└───┘└────────┘\n",
       "Creg: 1/══════════════════════════════\n",
       "                                      </pre>"
      ],
      "text/plain": [
       "        ┌───┐┌───┐┌───┐┌───┐┌────────┐\n",
       "  Qreg: ┤ X ├┤ Y ├┤ Z ├┤ H ├┤ P(π/2) ├\n",
       "        └───┘└───┘└───┘└───┘└────────┘\n",
       "Creg: 1/══════════════════════════════\n",
       "                                      "
      ]
     },
     "execution_count": 77,
     "metadata": {},
     "output_type": "execute_result"
    }
   ],
   "source": [
    "qr = QuantumRegister(1, 'Qreg')\n",
    "cr = ClassicalRegister(1, 'Creg')\n",
    "\n",
    "qc = QuantumCircuit()\n",
    "qc.add_register(qr)\n",
    "qc.add_register(cr)\n",
    "#qc.save_statevector()\n",
    "\n",
    "qc.x(0)\n",
    "qc.y(0)\n",
    "qc.z(0)\n",
    "qc.h(0)\n",
    "qc.p(np.pi/2, 0)\n",
    "\n",
    "\n",
    "qc.draw()"
   ]
  },
  {
   "cell_type": "markdown",
   "id": "bf7bf590",
   "metadata": {},
   "source": [
    "Initialize a Bell state by applying Haddamard to G0 and CNOT on G1, using G0 as control gate."
   ]
  },
  {
   "cell_type": "code",
   "execution_count": 78,
   "id": "4e016700",
   "metadata": {},
   "outputs": [
    {
     "data": {
      "text/html": [
       "<pre style=\"word-wrap: normal;white-space: pre;background: #fff0;line-height: 1.1;font-family: &quot;Courier New&quot;,Courier,monospace\">        ┌───┐      statevector ┌─┐   \n",
       "qreg_0: ┤ H ├──■────────░──────┤M├───\n",
       "        └───┘┌─┴─┐      ░      └╥┘┌─┐\n",
       "qreg_1: ─────┤ X ├──────░───────╫─┤M├\n",
       "             └───┘      ░       ║ └╥┘\n",
       "creg: 2/════════════════════════╩══╩═\n",
       "                                0  1 </pre>"
      ],
      "text/plain": [
       "        ┌───┐      statevector ┌─┐   \n",
       "qreg_0: ┤ H ├──■────────░──────┤M├───\n",
       "        └───┘┌─┴─┐      ░      └╥┘┌─┐\n",
       "qreg_1: ─────┤ X ├──────░───────╫─┤M├\n",
       "             └───┘      ░       ║ └╥┘\n",
       "creg: 2/════════════════════════╩══╩═\n",
       "                                0  1 "
      ]
     },
     "execution_count": 78,
     "metadata": {},
     "output_type": "execute_result"
    }
   ],
   "source": [
    "qc_2 = QuantumCircuit()\n",
    "\n",
    "qr_2 = QuantumRegister(2, 'qreg')\n",
    "qc_2.add_register(qr_2)\n",
    "\n",
    "cr_2 = ClassicalRegister(2, 'creg')\n",
    "qc_2.add_register(cr_2)\n",
    "qc_2.h(0)\n",
    "qc_2.cx(0,1)\n",
    "qc_2.save_statevector()\n",
    "qc_2.measure(qr_2[0], cr_2[0])\n",
    "qc_2.measure(qr_2[1], cr_2[1])\n",
    "qc_2.draw()"
   ]
  },
  {
   "cell_type": "code",
   "execution_count": 79,
   "id": "0302ea1a",
   "metadata": {},
   "outputs": [
    {
     "data": {
      "image/png": "[encoded data removed]",
      "text/plain": [
       "<Figure size 700x500 with 1 Axes>"
      ]
     },
     "execution_count": 79,
     "metadata": {},
     "output_type": "execute_result"
    }
   ],
   "source": [
    "job = simulator.run(qc_2, shots=1000)\n",
    "hist = job.result().get_counts()\n",
    "plot_histogram(hist)"
   ]
  },
  {
   "cell_type": "markdown",
   "id": "f043a4c9",
   "metadata": {},
   "source": [
    "This is statistically in accordance with the expected Bell states."
   ]
  },
  {
   "cell_type": "markdown",
   "id": "bd4a9384",
   "metadata": {},
   "source": [
    "## b\n",
    "\n",
    "\n",
    "Here we initialize the Hamiltonian matrices and solve it using eigsolvers.\n"
   ]
  },
  {
   "cell_type": "code",
   "execution_count": 95,
   "id": "50e7a114",
   "metadata": {},
   "outputs": [
    {
     "name": "stdout",
     "output_type": "stream",
     "text": [
      "X\n",
      "[[2.         0.13333333]\n",
      " [0.13333333 2.        ]]\n",
      "\n",
      "[2.13333333 1.86666667] \n",
      "\n",
      " [[ 0.70710678 -0.70710678]\n",
      " [ 0.70710678  0.70710678]]\n"
     ]
    }
   ],
   "source": [
    "H0 = np.eye(2)\n",
    "E1 = 0; E2 = 4\n",
    "H0[0,0] = E1; H0[1,1] = E2\n",
    "\n",
    "\n",
    "H1 = np.eye(2)\n",
    "v11 = 3; v22 = -v11; v12 = 0.2; v21 = v12\n",
    "H1[0,0] = v11; H1[0,1] = v12; H1[1,0] = v21; H1[1,1] = v22 \n",
    "\n",
    "lmd_ = 2/3#Range [0,1]\n",
    "pauli_x = np.matrix([[0,1],[1,0]])\n",
    "pauli_z = np.matrix([[1,0],[0,-1]])\n",
    "c = (v11 + v22)/2\n",
    "omega_z = (v11-v22)/2\n",
    "omega_x = v12\n",
    "\n",
    "H_ = H0 + lmd_*H1\n",
    "\n",
    "print(H_)\n",
    "print()\n",
    "eig_val, eig_vec = np.linalg.eig(H_)\n",
    "print(eig_val,'\\n\\n', eig_vec)"
   ]
  },
  {
   "cell_type": "markdown",
   "id": "6b9b67f4",
   "metadata": {},
   "source": [
    "## c\n"
   ]
  },
  {
   "cell_type": "code",
   "execution_count": 144,
   "id": "f9654025",
   "metadata": {},
   "outputs": [],
   "source": [
    "from qiskit.algorithms.minimum_eigensolvers import VQE\n",
    "from functools import partial\n",
    "from scipy.optimize import minimize\n",
    "from qiskit.quantum_info.operators import Operator, Pauli\n",
    "from qiskit.opflow import X, Z, I\n",
    "\n",
    "optimizer = partial(minimize, method=\"L-BFGS-B\")"
   ]
  },
  {
   "cell_type": "code",
   "execution_count": 145,
   "id": "f83de1b3",
   "metadata": {},
   "outputs": [
    {
     "name": "stdout",
     "output_type": "stream",
     "text": [
      "False\n"
     ]
    },
    {
     "data": {
      "image/png": "[encoded data removed]",
      "text/plain": [
       "<Figure size 586.204x284.278 with 1 Axes>"
      ]
     },
     "execution_count": 145,
     "metadata": {},
     "output_type": "execute_result"
    }
   ],
   "source": [
    "qc_3 = QuantumCircuit()\n",
    "\n",
    "qr_3 = QuantumRegister(2, 'qreg')\n",
    "qc_3.add_register(qr_3)\n",
    "\n",
    "cr_3 = ClassicalRegister(2, 'creg')\n",
    "qc_3.add_register(cr_3)\n",
    "\n",
    "eta = (E1 + E2)/2\n",
    "Omega = (E1-E2)/2\n",
    "H0 = eta*np.eye(2) + Omega*pauli_z\n",
    "are = Operator(Pauli('X'))\n",
    "\n",
    "H1 = c * np.eye(2) + omega_z * pauli_z + omega_x * pauli_x\n",
    "#I = Operator( Pauli('X') )\n",
    "\n",
    "X_op = Operator(Pauli('XX'))\n",
    "Z_op = Operator(Pauli('ZZ'))\n",
    "idty = Operator(np.eye(4))\n",
    "\n",
    "op_ = eta*idty + Omega*Z_op + lmd_*(c*idty + omega_z*Z_op + omega_x * X_op)\n",
    "print(op_.is_unitary())\n",
    "#Trenger en unitær operator for å klare å implementere det. Noen idé?\n",
    "\n",
    "\n",
    "qc_3.save_statevector()\n",
    "qc_3.measure(qr_3[0], cr_3[0])\n",
    "qc_3.measure(qr_3[1], cr_3[1])\n",
    "qc_3.draw('mpl')"
   ]
  },
  {
   "cell_type": "code",
   "execution_count": 153,
   "id": "88631938",
   "metadata": {},
   "outputs": [],
   "source": [
    "from qiskit.algorithms.optimizers import SLSQP\n",
    "from qiskit.circuit.library import TwoLocal"
   ]
  },
  {
   "cell_type": "code",
   "execution_count": 155,
   "id": "f849072c",
   "metadata": {},
   "outputs": [
    {
     "name": "stdout",
     "output_type": "stream",
     "text": [
      "-1.052373245772859 * II\n",
      "+ 0.39793742484318045 * IZ\n",
      "- 0.39793742484318045 * ZI\n",
      "- 0.01128010425623538 * ZZ\n",
      "+ 0.18093119978423156 * XX\n"
     ]
    },
    {
     "ename": "TypeError",
     "evalue": "VQE.__init__() missing 1 required positional argument: 'estimator'",
     "output_type": "error",
     "traceback": [
      "\u001b[1;31m---------------------------------------------------------------------------\u001b[0m",
      "\u001b[1;31mTypeError\u001b[0m                                 Traceback (most recent call last)",
      "Cell \u001b[1;32mIn[155], line 10\u001b[0m\n\u001b[0;32m      8\u001b[0m \u001b[38;5;28mprint\u001b[39m(H2_op)\n\u001b[0;32m      9\u001b[0m ansatz_ \u001b[38;5;241m=\u001b[39m TwoLocal(rotation_blocks\u001b[38;5;241m=\u001b[39m\u001b[38;5;124m'\u001b[39m\u001b[38;5;124mry\u001b[39m\u001b[38;5;124m'\u001b[39m, entanglement_blocks\u001b[38;5;241m=\u001b[39m\u001b[38;5;124m'\u001b[39m\u001b[38;5;124mcz\u001b[39m\u001b[38;5;124m'\u001b[39m)\n\u001b[1;32m---> 10\u001b[0m vqe \u001b[38;5;241m=\u001b[39m \u001b[43mVQE\u001b[49m\u001b[43m(\u001b[49m\u001b[43mansatz\u001b[49m\u001b[38;5;241;43m=\u001b[39;49m\u001b[43m \u001b[49m\u001b[43mansatz_\u001b[49m\u001b[43m,\u001b[49m\u001b[43m \u001b[49m\u001b[43moptimizer\u001b[49m\u001b[38;5;241;43m=\u001b[39;49m\u001b[43mSLSQP\u001b[49m\u001b[43m(\u001b[49m\u001b[43mmaxiter\u001b[49m\u001b[38;5;241;43m=\u001b[39;49m\u001b[38;5;241;43m1000\u001b[39;49m\u001b[43m)\u001b[49m\u001b[43m)\u001b[49m\n",
      "\u001b[1;31mTypeError\u001b[0m: VQE.__init__() missing 1 required positional argument: 'estimator'"
     ]
    }
   ],
   "source": [
    "#Testoperator\n",
    "H2_op = (-1.052373245772859 * I ^ I) + \\\n",
    "        (0.39793742484318045 * I ^ Z) + \\\n",
    "        (-0.39793742484318045 * Z ^ I) + \\\n",
    "        (-0.01128010425623538 * Z ^ Z) + \\\n",
    "        (0.18093119978423156 * X ^ X)\n",
    "\n",
    "print(H2_op)\n",
    "ansatz_ = TwoLocal(rotation_blocks='ry', entanglement_blocks='cz')\n",
    "vqe = VQE(ansatz= ansatz_, optimizer=SLSQP(maxiter=1000))"
   ]
  }
 ],
 "metadata": {
  "kernelspec": {
   "display_name": "Python 3 (ipykernel)",
   "language": "python",
   "name": "python3"
  },
  "language_info": {
   "codemirror_mode": {
    "name": "ipython",
    "version": 3
   },
   "file_extension": ".py",
   "mimetype": "text/x-python",
   "name": "python",
   "nbconvert_exporter": "python",
   "pygments_lexer": "ipython3",
   "version": "3.10.9"
  }
 },
 "nbformat": 4,
 "nbformat_minor": 5
}
