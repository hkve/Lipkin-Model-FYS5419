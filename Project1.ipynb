{
 "cells": [
  {
   "cell_type": "markdown",
   "id": "bda14c9c",
   "metadata": {},
   "source": [
    "# Vårt superprosjekt"
   ]
  },
  {
   "cell_type": "markdown",
   "id": "44bcbbf1",
   "metadata": {},
   "source": [
    "## a\n",
    "\n",
    "We initalize and test the functionality of Qiskit as follows"
   ]
  },
  {
   "cell_type": "code",
   "execution_count": 11,
   "id": "5efd6380",
   "metadata": {},
   "outputs": [],
   "source": [
    "from qiskit import QuantumCircuit,Aer,assemble, ClassicalRegister,QuantumRegister\n",
    "from qiskit.visualization import array_to_latex, plot_histogram\n",
    "import numpy as np\n",
    "import matplotlib.pyplot as plt\n",
    "simulator = Aer.get_backend('aer_simulator')"
   ]
  },
  {
   "cell_type": "code",
   "execution_count": 2,
   "id": "35a02864",
   "metadata": {},
   "outputs": [
    {
     "data": {
      "text/html": [
       "<pre style=\"word-wrap: normal;white-space: pre;background: #fff0;line-height: 1.1;font-family: &quot;Courier New&quot;,Courier,monospace\">        ┌───┐┌───┐┌───┐┌───┐┌────────┐\n",
       "  Qreg: ┤ X ├┤ Y ├┤ Z ├┤ H ├┤ P(π/2) ├\n",
       "        └───┘└───┘└───┘└───┘└────────┘\n",
       "Creg: 1/══════════════════════════════\n",
       "                                      </pre>"
      ],
      "text/plain": [
       "        ┌───┐┌───┐┌───┐┌───┐┌────────┐\n",
       "  Qreg: ┤ X ├┤ Y ├┤ Z ├┤ H ├┤ P(π/2) ├\n",
       "        └───┘└───┘└───┘└───┘└────────┘\n",
       "Creg: 1/══════════════════════════════\n",
       "                                      "
      ]
     },
     "execution_count": 2,
     "metadata": {},
     "output_type": "execute_result"
    }
   ],
   "source": [
    "qr = QuantumRegister(1, 'Qreg')\n",
    "cr = ClassicalRegister(1, 'Creg')\n",
    "\n",
    "qc = QuantumCircuit()\n",
    "qc.add_register(qr)\n",
    "qc.add_register(cr)\n",
    "#qc.save_statevector()\n",
    "\n",
    "qc.x(0)\n",
    "qc.y(0)\n",
    "qc.z(0)\n",
    "qc.h(0)\n",
    "qc.p(np.pi/2, 0)\n",
    "\n",
    "\n",
    "qc.draw()"
   ]
  },
  {
   "cell_type": "markdown",
   "id": "bf7bf590",
   "metadata": {},
   "source": [
    "Initialize a Bell state by applying Haddamard to G0 and CNOT on G1, using G0 as control gate."
   ]
  },
  {
   "cell_type": "code",
   "execution_count": 4,
   "id": "4e016700",
   "metadata": {},
   "outputs": [
    {
     "data": {
      "text/html": [
       "<pre style=\"word-wrap: normal;white-space: pre;background: #fff0;line-height: 1.1;font-family: &quot;Courier New&quot;,Courier,monospace\">        ┌───┐      statevector ┌─┐   \n",
       "qreg_0: ┤ H ├──■────────░──────┤M├───\n",
       "        └───┘┌─┴─┐      ░      └╥┘┌─┐\n",
       "qreg_1: ─────┤ X ├──────░───────╫─┤M├\n",
       "             └───┘      ░       ║ └╥┘\n",
       "creg: 2/════════════════════════╩══╩═\n",
       "                                0  1 </pre>"
      ],
      "text/plain": [
       "        ┌───┐      statevector ┌─┐   \n",
       "qreg_0: ┤ H ├──■────────░──────┤M├───\n",
       "        └───┘┌─┴─┐      ░      └╥┘┌─┐\n",
       "qreg_1: ─────┤ X ├──────░───────╫─┤M├\n",
       "             └───┘      ░       ║ └╥┘\n",
       "creg: 2/════════════════════════╩══╩═\n",
       "                                0  1 "
      ]
     },
     "execution_count": 4,
     "metadata": {},
     "output_type": "execute_result"
    }
   ],
   "source": [
    "qc_2 = QuantumCircuit()\n",
    "\n",
    "qr_2 = QuantumRegister(2, 'qreg')\n",
    "qc_2.add_register(qr_2)\n",
    "\n",
    "cr_2 = ClassicalRegister(2, 'creg')\n",
    "qc_2.add_register(cr_2)\n",
    "qc_2.h(0)\n",
    "qc_2.cx(0,1)\n",
    "qc_2.save_statevector()\n",
    "qc_2.measure(qr_2[0], cr_2[0])\n",
    "qc_2.measure(qr_2[1], cr_2[1])\n",
    "qc_2.draw()"
   ]
  },
  {
   "cell_type": "code",
   "execution_count": 5,
   "id": "0302ea1a",
   "metadata": {},
   "outputs": [
    {
     "data": {
      "image/png": "[encoded data removed]",
      "text/plain": [
       "<Figure size 700x500 with 1 Axes>"
      ]
     },
     "execution_count": 5,
     "metadata": {},
     "output_type": "execute_result"
    }
   ],
   "source": [
    "job = simulator.run(qc_2, shots=1000)\n",
    "hist = job.result().get_counts()\n",
    "plot_histogram(hist)"
   ]
  },
  {
   "cell_type": "markdown",
   "id": "f043a4c9",
   "metadata": {},
   "source": [
    "This is statistically in accordance with the expected Bell states."
   ]
  },
  {
   "cell_type": "markdown",
   "id": "bd4a9384",
   "metadata": {},
   "source": [
    "## b\n",
    "\n",
    "\n",
    "Here we initialize the Hamiltonian matrices and solve it using eigsolvers.\n"
   ]
  },
  {
   "cell_type": "code",
   "execution_count": 10,
   "id": "50e7a114",
   "metadata": {},
   "outputs": [
    {
     "name": "stdout",
     "output_type": "stream",
     "text": [
      "[1. 0.] [0. 0.]\n",
      "[-9.99999869e-01  5.12820311e-04] [0. 0.]\n",
      "[-0.99999946  0.00104166] [0. 0.]\n",
      "[-0.99999874  0.0015873 ] [0. 0.]\n",
      "[-0.99999769  0.00215052] [0. 0.]\n",
      "[-0.99999627  0.00273221] [0. 0.]\n",
      "[-0.99999444  0.00333328] [0. 0.]\n",
      "[-0.99999218  0.00395471] [0. 0.]\n",
      "[-0.99998943  0.00459756] [0. 0.]\n",
      "[-0.99998615  0.00526294] [0. 0.]\n",
      "[-0.99998229  0.00595206] [0. 0.]\n",
      "[-0.99997778  0.00666622] [0. 0.]\n",
      "[-0.99997257  0.0074068 ] [0. 0.]\n",
      "[-0.99996658  0.00817528] [0. 0.]\n",
      "[-0.99995974  0.00897328] [0. 0.]\n",
      "[-0.99995195  0.00980251] [0. 0.]\n",
      "[-0.99994313  0.01066485] [0. 0.]\n",
      "[-0.99993315  0.01156231] [0. 0.]\n",
      "[-0.99992191  0.01249707] [0. 0.]\n",
      "[-0.99990926  0.01347151] [0. 0.]\n",
      "[-0.99989504  0.01448819] [0. 0.]\n",
      "[-0.99987909  0.01554991] [0. 0.]\n",
      "[-0.99986122  0.01665973] [0. 0.]\n",
      "[-0.99984119  0.01782096] [0. 0.]\n",
      "[-0.99981877  0.01903726] [0. 0.]\n",
      "[-0.99979368  0.02031262] [0. 0.]\n",
      "[-0.99976558  0.02165143] [0. 0.]\n",
      "[-0.99973412  0.02305851] [0. 0.]\n",
      "[-0.99969887  0.02453921] [0. 0.]\n",
      "[-0.99965935  0.02609942] [0. 0.]\n",
      "[-0.99961501  0.02774569] [0. 0.]\n",
      "[-0.99956521  0.02948529] [0. 0.]\n",
      "[-0.99950921  0.03132635] [0. 0.]\n",
      "[-0.99944614  0.03327794] [0. 0.]\n",
      "[-0.99937498  0.03535024] [0. 0.]\n",
      "[-0.99929457  0.03755474] [0. 0.]\n",
      "[-0.9992035   0.03990439] [0. 0.]\n",
      "[-0.99910013  0.04241389] [0. 0.]\n",
      "[-0.99898248  0.04509996] [0. 0.]\n",
      "[-0.99884821  0.04798172] [0. 0.]\n",
      "[-0.99869451  0.05108112] [0. 0.]\n",
      "[-0.99851794  0.05442349] [0. 0.]\n",
      "[-0.99831436  0.05803818] [0. 0.]\n",
      "[-0.99807867  0.0619594 ] [0. 0.]\n",
      "[-0.99780457  0.06622726] [0. 0.]\n",
      "[-0.99748421  0.07088902] [0. 0.]\n",
      "[-0.99710776  0.07600081] [0. 0.]\n",
      "[-0.99666273  0.08162968] [0. 0.]\n",
      "[-0.99613315  0.08785639] [0. 0.]\n",
      "[-0.99549834  0.09477894] [0. 0.]\n",
      "[-0.99473122  0.10251727] [0. 0.]\n",
      "[-0.99379586  0.11121954] [0. 0.]\n",
      "[-0.99264391  0.12107051] [0. 0.]\n",
      "[-0.99120933  0.13230295] [0. 0.]\n",
      "[-0.9894004   0.14521314] [0. 0.]\n",
      "[-0.98708746  0.16018224] [0. 0.]\n",
      "[-0.98408371  0.17770549] [0. 0.]\n",
      "[-0.98011468  0.1984319 ] [0. 0.]\n",
      "[-0.97476893  0.22321632] [0. 0.]\n",
      "[-0.96741852  0.25318256] [0. 0.]\n",
      "[-0.95709203  0.28978415] [0. 0.]\n",
      "[-0.94228379  0.33481525] [0. 0.]\n",
      "[-0.92071207  0.3902426 ] [0. 0.]\n",
      "[-0.88916764  0.45758158] [0. 0.]\n",
      "[-0.84392946  0.53645416] [0. 0.]\n",
      "[-0.78257891  0.6225514 ] [0. 0.]\n",
      "[0.70710678 0.70710678] [0. 0.]\n",
      "[0.78053582 0.62511105] [0. 0.]\n",
      "[0.83774704 0.54605851] [0. 0.]\n",
      "[0.87928033 0.47630464] [0. 0.]\n",
      "[0.9085129  0.41785681] [0. 0.]\n",
      "[0.92903366 0.36999522] [0. 0.]\n",
      "[0.94362832 0.33100694] [0. 0.]\n",
      "[0.95421815 0.29911156] [0. 0.]\n",
      "[0.96207351 0.27279033] [0. 0.]\n",
      "[0.96802822 0.25084131] [0. 0.]\n",
      "[0.97263451 0.23234051] [0. 0.]\n",
      "[0.97626409 0.21658354] [0. 0.]\n",
      "[0.979172   0.20303248] [0. 0.]\n",
      "[0.98153673 0.19127376] [0. 0.]\n",
      "[0.98348557 0.18098655] [0. 0.]\n",
      "[0.98511101 0.17191944] [0. 0.]\n",
      "[0.98648138 0.16387339] [0. 0.]\n",
      "[0.98764795 0.15668925] [0. 0.]\n",
      "[0.98864978 0.15023852] [0. 0.]\n",
      "[0.98951699 0.14441648] [0. 0.]\n",
      "[0.99027313 0.13913708] [0. 0.]\n",
      "[0.99093678 0.13432903] [0. 0.]\n",
      "[0.9915228  0.12993279] [0. 0.]\n",
      "[0.99204315 0.12589832] [0. 0.]\n",
      "[0.99250756 0.12218326] [0. 0.]\n",
      "[0.992924   0.11875155] [0. 0.]\n",
      "[0.99329907 0.11557229] [0. 0.]\n",
      "[0.99363826 0.11261887] [0. 0.]\n",
      "[0.99394616 0.10986827] [0. 0.]\n",
      "[0.99422664 0.10730047] [0. 0.]\n",
      "[0.99448299 0.10489796] [0. 0.]\n",
      "[0.99471801 0.1026454 ] [0. 0.]\n",
      "[0.9949341  0.10052927] [0. 0.]\n",
      "[0.99513333 0.09853762] [0. 0.]\n",
      "[[0.         4.        ]\n",
      " [0.03030199 3.96969801]\n",
      " [0.06060185 3.93939815]\n",
      " [0.09089947 3.90910053]\n",
      " [0.12119474 3.87880526]\n",
      " [0.15148755 3.84851245]\n",
      " [0.18177778 3.81822222]\n",
      " [0.21206529 3.78793471]\n",
      " [0.24234994 3.75765006]\n",
      " [0.27263158 3.72736842]\n",
      " [0.30291006 3.69708994]\n",
      " [0.33318519 3.66681481]\n",
      " [0.3634568  3.6365432 ]\n",
      " [0.39372468 3.60627532]\n",
      " [0.42398862 3.57601138]\n",
      " [0.45424839 3.54575161]\n",
      " [0.48450374 3.51549626]\n",
      " [0.5147544  3.4852456 ]\n",
      " [0.54500007 3.45499993]\n",
      " [0.57524044 3.42475956]\n",
      " [0.60547516 3.39452484]\n",
      " [0.63570386 3.36429614]\n",
      " [0.66592613 3.33407387]\n",
      " [0.69614152 3.30385848]\n",
      " [0.72634954 3.27365046]\n",
      " [0.75654966 3.24345034]\n",
      " [0.78674127 3.21325873]\n",
      " [0.81692375 3.18307625]\n",
      " [0.84709635 3.15290365]\n",
      " [0.8772583  3.1227417 ]\n",
      " [0.9074087  3.0925913 ]\n",
      " [0.93754658 3.06245342]\n",
      " [0.96767084 3.03232916]\n",
      " [0.99778024 3.00221976]\n",
      " [1.02787341 2.97212659]\n",
      " [1.0579488  2.9420512 ]\n",
      " [1.08800464 2.91199536]\n",
      " [1.11803893 2.88196107]\n",
      " [1.14804941 2.85195059]\n",
      " [1.17803345 2.82196655]\n",
      " [1.20798805 2.79201195]\n",
      " [1.23790975 2.76209025]\n",
      " [1.26779451 2.73220549]\n",
      " [1.29763761 2.70236239]\n",
      " [1.32743351 2.67256649]\n",
      " [1.35717565 2.64282435]\n",
      " [1.38685621 2.61314379]\n",
      " [1.41646577 2.58353423]\n",
      " [1.44599298 2.55400702]\n",
      " [1.4754239  2.5245761 ]\n",
      " [1.50474139 2.49525861]\n",
      " [1.53392403 2.46607597]\n",
      " [1.56294481 2.43705519]\n",
      " [1.5917692  2.4082308 ]\n",
      " [1.62035249 2.37964751]\n",
      " [1.64863582 2.35136418]\n",
      " [1.67654048 2.32345952]\n",
      " [1.7039594  2.2960406 ]\n",
      " [1.73074413 2.26925587]\n",
      " [1.75668514 2.24331486]\n",
      " [1.78148174 2.21851826]\n",
      " [1.80469755 2.19530245]\n",
      " [1.82569976 2.17430024]\n",
      " [1.84359409 2.15640591]\n",
      " [1.8572073  2.1427927 ]\n",
      " [1.86523572 2.13476428]\n",
      " [2.13333333 1.86666667]\n",
      " [2.13870419 1.86129581]\n",
      " [2.15014872 1.84985128]\n",
      " [2.16641855 1.83358145]\n",
      " [2.18625342 1.81374658]\n",
      " [2.20863905 1.79136095]\n",
      " [2.23284088 1.76715912]\n",
      " [2.25834901 1.74165099]\n",
      " [2.28481266 1.71518734]\n",
      " [2.31198879 1.68801121]\n",
      " [2.33970645 1.66029355]\n",
      " [2.36784323 1.63215677]\n",
      " [2.39630988 1.60369012]\n",
      " [2.42504014 1.57495986]\n",
      " [2.45398394 1.54601606]\n",
      " [2.48310292 1.51689708]\n",
      " [2.5123672  1.4876328 ]\n",
      " [2.54175325 1.45824675]\n",
      " [2.57124226 1.42875774]\n",
      " [2.60081909 1.39918091]\n",
      " [2.63047136 1.36952864]\n",
      " [2.66018891 1.33981109]\n",
      " [2.68996332 1.31003668]\n",
      " [2.71978752 1.28021248]\n",
      " [2.74965557 1.25034443]\n",
      " [2.77956243 1.22043757]\n",
      " [2.8095038  1.1904962 ]\n",
      " [2.83947598 1.16052402]\n",
      " [2.8694758  1.1305242 ]\n",
      " [2.89950048 1.10049952]\n",
      " [2.92954762 1.07045238]\n",
      " [2.9596151  1.0403849 ]\n",
      " [2.98970107 1.01029893]\n",
      " [3.0198039  0.9801961 ]]\n"
     ]
    }
   ],
   "source": [
    "H0 = np.eye(2)\n",
    "E1 = 0; E2 = 4\n",
    "H0[0,0] = E1; H0[1,1] = E2\n",
    "\n",
    "\n",
    "H1 = np.eye(2)\n",
    "v11 = 3; v22 = -v11; v12 = 0.2; v21 = v12\n",
    "H1[0,0] = v11; H1[0,1] = v12; H1[1,0] = v21; H1[1,1] = v22 \n",
    "\n",
    "pauli_x = np.matrix([[0,1],[1,0]])\n",
    "pauli_z = np.matrix([[1,0],[0,-1]])\n",
    "c = (v11 + v22)/2\n",
    "omega_z = (v11-v22)/2\n",
    "omega_x = v12\n",
    "\n",
    "n = 100\n",
    "lambdas = np.linspace(0,1,n)\n",
    "Es = np.zeros((n,2))\n",
    "C1s, C2s  = np.zeros_like(Es), np.zeros_like(Es)\n",
    "for i, lmd_ in enumerate(lambdas):\n",
    "    H_ = H0 + lmd_*H1\n",
    "    eig_val, eig_vec = np.linalg.eig(H_)\n",
    "    # print(H_)\n",
    "    Es[i,:] = eig_val\n",
    "    C1s[i,:] = eig_vec[:,0]\n",
    "    C2s[i,:] = eig_vec[:,1] \n",
    "\n",
    "print(Es)"
   ]
  },
  {
   "cell_type": "markdown",
   "id": "6b9b67f4",
   "metadata": {},
   "source": [
    "## c\n"
   ]
  },
  {
   "cell_type": "code",
   "execution_count": 144,
   "id": "f9654025",
   "metadata": {},
   "outputs": [],
   "source": [
    "from qiskit.algorithms.minimum_eigensolvers import VQE\n",
    "from functools import partial\n",
    "from scipy.optimize import minimize\n",
    "from qiskit.quantum_info.operators import Operator, Pauli\n",
    "from qiskit.opflow import X, Z, I\n",
    "\n",
    "optimizer = partial(minimize, method=\"L-BFGS-B\")"
   ]
  },
  {
   "cell_type": "code",
   "execution_count": 145,
   "id": "f83de1b3",
   "metadata": {},
   "outputs": [
    {
     "name": "stdout",
     "output_type": "stream",
     "text": [
      "False\n"
     ]
    },
    {
     "data": {
      "image/png": "[encoded data removed]",
      "text/plain": [
       "<Figure size 586.204x284.278 with 1 Axes>"
      ]
     },
     "execution_count": 145,
     "metadata": {},
     "output_type": "execute_result"
    }
   ],
   "source": [
    "qc_3 = QuantumCircuit()\n",
    "\n",
    "qr_3 = QuantumRegister(2, 'qreg')\n",
    "qc_3.add_register(qr_3)\n",
    "\n",
    "cr_3 = ClassicalRegister(2, 'creg')\n",
    "qc_3.add_register(cr_3)\n",
    "\n",
    "eta = (E1 + E2)/2\n",
    "Omega = (E1-E2)/2\n",
    "H0 = eta*np.eye(2) + Omega*pauli_z\n",
    "are = Operator(Pauli('X'))\n",
    "\n",
    "H1 = c * np.eye(2) + omega_z * pauli_z + omega_x * pauli_x\n",
    "#I = Operator( Pauli('X') )\n",
    "\n",
    "X_op = Operator(Pauli('XX'))\n",
    "Z_op = Operator(Pauli('ZZ'))\n",
    "idty = Operator(np.eye(4))\n",
    "\n",
    "op_ = eta*idty + Omega*Z_op + lmd_*(c*idty + omega_z*Z_op + omega_x * X_op)\n",
    "print(op_.is_unitary())\n",
    "#Trenger en unitær operator for å klare å implementere det. Noen idé?\n",
    "\n",
    "\n",
    "qc_3.save_statevector()\n",
    "qc_3.measure(qr_3[0], cr_3[0])\n",
    "qc_3.measure(qr_3[1], cr_3[1])\n",
    "qc_3.draw('mpl')"
   ]
  },
  {
   "cell_type": "code",
   "execution_count": 153,
   "id": "88631938",
   "metadata": {},
   "outputs": [],
   "source": [
    "from qiskit.algorithms.optimizers import SLSQP\n",
    "from qiskit.circuit.library import TwoLocal"
   ]
  },
  {
   "cell_type": "code",
   "execution_count": 155,
   "id": "f849072c",
   "metadata": {},
   "outputs": [
    {
     "name": "stdout",
     "output_type": "stream",
     "text": [
      "-1.052373245772859 * II\n",
      "+ 0.39793742484318045 * IZ\n",
      "- 0.39793742484318045 * ZI\n",
      "- 0.01128010425623538 * ZZ\n",
      "+ 0.18093119978423156 * XX\n"
     ]
    },
    {
     "ename": "TypeError",
     "evalue": "VQE.__init__() missing 1 required positional argument: 'estimator'",
     "output_type": "error",
     "traceback": [
      "\u001b[1;31m---------------------------------------------------------------------------\u001b[0m",
      "\u001b[1;31mTypeError\u001b[0m                                 Traceback (most recent call last)",
      "Cell \u001b[1;32mIn[155], line 10\u001b[0m\n\u001b[0;32m      8\u001b[0m \u001b[38;5;28mprint\u001b[39m(H2_op)\n\u001b[0;32m      9\u001b[0m ansatz_ \u001b[38;5;241m=\u001b[39m TwoLocal(rotation_blocks\u001b[38;5;241m=\u001b[39m\u001b[38;5;124m'\u001b[39m\u001b[38;5;124mry\u001b[39m\u001b[38;5;124m'\u001b[39m, entanglement_blocks\u001b[38;5;241m=\u001b[39m\u001b[38;5;124m'\u001b[39m\u001b[38;5;124mcz\u001b[39m\u001b[38;5;124m'\u001b[39m)\n\u001b[1;32m---> 10\u001b[0m vqe \u001b[38;5;241m=\u001b[39m \u001b[43mVQE\u001b[49m\u001b[43m(\u001b[49m\u001b[43mansatz\u001b[49m\u001b[38;5;241;43m=\u001b[39;49m\u001b[43m \u001b[49m\u001b[43mansatz_\u001b[49m\u001b[43m,\u001b[49m\u001b[43m \u001b[49m\u001b[43moptimizer\u001b[49m\u001b[38;5;241;43m=\u001b[39;49m\u001b[43mSLSQP\u001b[49m\u001b[43m(\u001b[49m\u001b[43mmaxiter\u001b[49m\u001b[38;5;241;43m=\u001b[39;49m\u001b[38;5;241;43m1000\u001b[39;49m\u001b[43m)\u001b[49m\u001b[43m)\u001b[49m\n",
      "\u001b[1;31mTypeError\u001b[0m: VQE.__init__() missing 1 required positional argument: 'estimator'"
     ]
    }
   ],
   "source": [
    "#Testoperator\n",
    "H2_op = (-1.052373245772859 * I ^ I) + \\\n",
    "        (0.39793742484318045 * I ^ Z) + \\\n",
    "        (-0.39793742484318045 * Z ^ I) + \\\n",
    "        (-0.01128010425623538 * Z ^ Z) + \\\n",
    "        (0.18093119978423156 * X ^ X)\n",
    "\n",
    "print(H2_op)\n",
    "ansatz_ = TwoLocal(rotation_blocks='ry', entanglement_blocks='cz')\n",
    "vqe = VQE(ansatz= ansatz_, optimizer=SLSQP(maxiter=1000))"
   ]
  }
 ],
 "metadata": {
  "kernelspec": {
   "display_name": "Python 3 (ipykernel)",
   "language": "python",
   "name": "python3"
  },
  "language_info": {
   "codemirror_mode": {
    "name": "ipython",
    "version": 3
   },
   "file_extension": ".py",
   "mimetype": "text/x-python",
   "name": "python",
   "nbconvert_exporter": "python",
   "pygments_lexer": "ipython3",
   "version": "3.10.6"
  }
 },
 "nbformat": 4,
 "nbformat_minor": 5
}
