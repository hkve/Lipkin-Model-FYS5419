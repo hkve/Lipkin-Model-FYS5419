{
 "cells": [
  {
   "cell_type": "markdown",
   "id": "01393239",
   "metadata": {},
   "source": [
    "# Vårt superprosjekt"
   ]
  },
  {
   "cell_type": "code",
   "execution_count": null,
   "id": "6b8c7156",
   "metadata": {},
   "outputs": [],
   "source": []
  },
  {
   "cell_type": "markdown",
   "id": "66f22195",
   "metadata": {},
   "source": [
    "## a\n",
    "\n",
    "We initalize and test the functionality of Qiskit as follows"
   ]
  },
  {
   "cell_type": "code",
   "execution_count": 6,
   "id": "7acfaa2b",
   "metadata": {},
   "outputs": [],
   "source": [
    "from qiskit import QuantumCircuit,Aer,assemble, ClassicalRegister,QuantumRegister\n",
    "from qiskit.visualization import array_to_latex, plot_histogram\n",
    "import numpy as np\n",
    "import matplotlib.pyplot as plt\n",
    "from qiskit.algorithms.minimum_eigensolvers import VQE\n",
    "from functools import partial\n",
    "from scipy.optimize import minimize\n",
    "from qiskit.quantum_info.operators import Operator, Pauli\n",
    "from qiskit.opflow import X, Z, I\n",
    "from qiskit.opflow import AerPauliExpectation\n",
    "from qiskit.primitives import Estimator\n",
    "from qiskit_aer.primitives import Estimator as AerEstimator\n",
    "from qiskit import transpile\n",
    "\n",
    "optimizer = partial(minimize, method=\"L-BFGS-B\")\n",
    "simulator = Aer.get_backend('aer_simulator')"
   ]
  },
  {
   "cell_type": "code",
   "execution_count": 39,
   "id": "d6a96d14",
   "metadata": {},
   "outputs": [
    {
     "data": {
      "text/html": [
       "<pre style=\"word-wrap: normal;white-space: pre;background: #fff0;line-height: 1.1;font-family: &quot;Courier New&quot;,Courier,monospace\">     ┌────────────┐              \n",
       "q_0: ┤ Ry(theta1) ├──────■───────\n",
       "     └────────────┘┌─────┴──────┐\n",
       "q_1: ──────────────┤ Ry(theta2) ├\n",
       "                   └────────────┘</pre>"
      ],
      "text/plain": [
       "     ┌────────────┐              \n",
       "q_0: ┤ Ry(theta1) ├──────■───────\n",
       "     └────────────┘┌─────┴──────┐\n",
       "q_1: ──────────────┤ Ry(theta2) ├\n",
       "                   └────────────┘"
      ]
     },
     "execution_count": 39,
     "metadata": {},
     "output_type": "execute_result"
    }
   ],
   "source": [
    "from qiskit.circuit import QuantumCircuit,\\\n",
    "                           Parameter\n",
    "var_par1 = Parameter('theta1')\n",
    "var_par2 = Parameter('theta2')\n",
    "\n",
    "qc_ = QuantumCircuit(2)\n",
    "\n",
    "qc_.ry(var_par1,0)\n",
    "qc_.cry(var_par2,0,1)\n",
    "qc_.draw()"
   ]
  },
  {
   "cell_type": "code",
   "execution_count": 41,
   "id": "c35c781e",
   "metadata": {},
   "outputs": [
    {
     "data": {
      "text/html": [
       "<pre style=\"word-wrap: normal;white-space: pre;background: #fff0;line-height: 1.1;font-family: &quot;Courier New&quot;,Courier,monospace\">     ┌───────┐           \n",
       "q_0: ┤ Ry(π) ├─────■─────\n",
       "     └───────┘┌────┴────┐\n",
       "q_1: ─────────┤ Ry(π/2) ├\n",
       "              └─────────┘</pre>"
      ],
      "text/plain": [
       "     ┌───────┐           \n",
       "q_0: ┤ Ry(π) ├─────■─────\n",
       "     └───────┘┌────┴────┐\n",
       "q_1: ─────────┤ Ry(π/2) ├\n",
       "              └─────────┘"
      ]
     },
     "execution_count": 41,
     "metadata": {},
     "output_type": "execute_result"
    }
   ],
   "source": [
    "qc_par = qc_.bind_parameters({var_par1: np.pi, var_par2: np.pi/2})\n",
    "qc_par.draw()"
   ]
  },
  {
   "cell_type": "code",
   "execution_count": 3,
   "id": "e6d4eb66",
   "metadata": {},
   "outputs": [
    {
     "data": {
      "text/html": [
       "<pre style=\"word-wrap: normal;white-space: pre;background: #fff0;line-height: 1.1;font-family: &quot;Courier New&quot;,Courier,monospace\">        ┌───┐┌───┐┌───┐┌───┐┌────────┐\n",
       "  Qreg: ┤ X ├┤ Y ├┤ Z ├┤ H ├┤ P(π/2) ├\n",
       "        └───┘└───┘└───┘└───┘└────────┘\n",
       "Creg: 1/══════════════════════════════\n",
       "                                      </pre>"
      ],
      "text/plain": [
       "        ┌───┐┌───┐┌───┐┌───┐┌────────┐\n",
       "  Qreg: ┤ X ├┤ Y ├┤ Z ├┤ H ├┤ P(π/2) ├\n",
       "        └───┘└───┘└───┘└───┘└────────┘\n",
       "Creg: 1/══════════════════════════════\n",
       "                                      "
      ]
     },
     "execution_count": 3,
     "metadata": {},
     "output_type": "execute_result"
    }
   ],
   "source": [
    "qr = QuantumRegister(1, 'Qreg')\n",
    "cr = ClassicalRegister(1, 'Creg')\n",
    "\n",
    "qc = QuantumCircuit()\n",
    "qc.add_register(qr)\n",
    "qc.add_register(cr)\n",
    "#qc.save_statevector()\n",
    "\n",
    "qc.x(0)\n",
    "qc.y(0)\n",
    "qc.z(0)\n",
    "qc.h(0)\n",
    "qc.p(np.pi/2, 0)\n",
    "\n",
    "\n",
    "qc.draw()"
   ]
  },
  {
   "cell_type": "markdown",
   "id": "bbf61709",
   "metadata": {},
   "source": [
    "Initialize a Bell state by applying Haddamard to G0 and CNOT on G1, using G0 as control gate."
   ]
  },
  {
   "cell_type": "code",
   "execution_count": 4,
   "id": "2a3b8815",
   "metadata": {},
   "outputs": [
    {
     "data": {
      "text/html": [
       "<pre style=\"word-wrap: normal;white-space: pre;background: #fff0;line-height: 1.1;font-family: &quot;Courier New&quot;,Courier,monospace\">        ┌───┐      statevector ┌─┐   \n",
       "qreg_0: ┤ H ├──■────────░──────┤M├───\n",
       "        └───┘┌─┴─┐      ░      └╥┘┌─┐\n",
       "qreg_1: ─────┤ X ├──────░───────╫─┤M├\n",
       "             └───┘      ░       ║ └╥┘\n",
       "creg: 2/════════════════════════╩══╩═\n",
       "                                0  1 </pre>"
      ],
      "text/plain": [
       "        ┌───┐      statevector ┌─┐   \n",
       "qreg_0: ┤ H ├──■────────░──────┤M├───\n",
       "        └───┘┌─┴─┐      ░      └╥┘┌─┐\n",
       "qreg_1: ─────┤ X ├──────░───────╫─┤M├\n",
       "             └───┘      ░       ║ └╥┘\n",
       "creg: 2/════════════════════════╩══╩═\n",
       "                                0  1 "
      ]
     },
     "execution_count": 4,
     "metadata": {},
     "output_type": "execute_result"
    }
   ],
   "source": [
    "qc_2 = QuantumCircuit()\n",
    "\n",
    "qr_2 = QuantumRegister(2, 'qreg')\n",
    "qc_2.add_register(qr_2)\n",
    "\n",
    "cr_2 = ClassicalRegister(2, 'creg')\n",
    "qc_2.add_register(cr_2)\n",
    "qc_2.h(0)\n",
    "qc_2.cx(0,1)\n",
    "qc_2.save_statevector()\n",
    "qc_2.measure(qr_2[0], cr_2[0])\n",
    "qc_2.measure(qr_2[1], cr_2[1])\n",
    "qc_2.draw()"
   ]
  },
  {
   "cell_type": "code",
   "execution_count": 5,
   "id": "cda4c4de",
   "metadata": {},
   "outputs": [
    {
     "data": {
      "image/png": "[encoded data removed]",
      "text/plain": [
       "<Figure size 700x500 with 1 Axes>"
      ]
     },
     "execution_count": 5,
     "metadata": {},
     "output_type": "execute_result"
    }
   ],
   "source": [
    "job = simulator.run(qc_2, shots=1000)\n",
    "hist = job.result().get_counts()\n",
    "plot_histogram(hist)"
   ]
  },
  {
   "cell_type": "markdown",
   "id": "0b74d511",
   "metadata": {},
   "source": [
    "This is statistically in accordance with the expected Bell states."
   ]
  },
  {
   "cell_type": "markdown",
   "id": "26c6d495",
   "metadata": {},
   "source": [
    "## b\n",
    "\n",
    "\n",
    "Here we initialize the Hamiltonian matrices and solve it using eigsolvers.\n"
   ]
  },
  {
   "cell_type": "code",
   "execution_count": 54,
   "id": "c25b8d79",
   "metadata": {},
   "outputs": [
    {
     "name": "stdout",
     "output_type": "stream",
     "text": [
      "[[2.         0.13333333]\n",
      " [0.13333333 2.        ]]\n",
      "\n",
      "[2.13333333 1.86666667] \n",
      "\n",
      " [[ 0.70710678 -0.70710678]\n",
      " [ 0.70710678  0.70710678]]\n"
     ]
    },
    {
     "data": {
      "text/plain": [
       "<matplotlib.legend.Legend at 0x1c442173520>"
      ]
     },
     "execution_count": 54,
     "metadata": {},
     "output_type": "execute_result"
    },
    {
     "data": {
      "image/png": "[encoded data removed]",
      "text/plain": [
       "<Figure size 640x480 with 1 Axes>"
      ]
     },
     "metadata": {},
     "output_type": "display_data"
    }
   ],
   "source": [
    "H0 = np.eye(2)\n",
    "E1 = 0; E2 = 4\n",
    "H0[0,0] = E1; H0[1,1] = E2\n",
    "\n",
    "\n",
    "H1 = np.eye(2)\n",
    "v11 = 3; v22 = -v11; v12 = 0.2; v21 = v12\n",
    "H1[0,0] = v11; H1[0,1] = v12; H1[1,0] = v21; H1[1,1] = v22 \n",
    "\n",
    "lmd_ = 2/3#Range [0,1]\n",
    "pauli_x = np.matrix([[0,1],[1,0]])\n",
    "pauli_z = np.matrix([[1,0],[0,-1]])\n",
    "c = (v11 + v22)/2\n",
    "omega_z = (v11-v22)/2\n",
    "omega_x = v12\n",
    "\n",
    "H_ = H0 + lmd_*H1\n",
    "\n",
    "print(H_)\n",
    "print()\n",
    "eig_val, eig_vec = np.linalg.eig(H_)\n",
    "print(eig_val,'\\n\\n', eig_vec)\n",
    "\n",
    "\n",
    "n = 1000\n",
    "lambdas = np.linspace(0,1,n)\n",
    "Es = np.zeros((n,2))\n",
    "C1s, C2s  = np.zeros_like(Es), np.zeros_like(Es)\n",
    "for i, lmd_ in enumerate(lambdas):\n",
    "    H_ = H0 + lmd_*H1\n",
    "    eig_val, eig_vec = np.linalg.eigh(H_)\n",
    "    # print(H_)\n",
    "    Es[i,:] = eig_val\n",
    "    C1s[i,:] = eig_vec[:,0]\n",
    "    C2s[i,:] = eig_vec[:,1] \n",
    "\n",
    "fig, ax = plt.subplots()\n",
    "ax.plot(lambdas, Es[:,0], label=r\"$E_0$\")\n",
    "ax.plot(lambdas, Es[:,1], label=r\"$E_1$\")\n",
    "ax.set(xlabel=r\"$\\lambda$\", ylabel=\"E [magic]\")\n",
    "ax.legend() # Kan legge til fancy-pancy color bar for a vise \"change of character\" opplegget?"
   ]
  },
  {
   "cell_type": "markdown",
   "id": "2e11e12c",
   "metadata": {},
   "source": [
    "## c\n"
   ]
  },
  {
   "cell_type": "code",
   "execution_count": 7,
   "id": "48861b0f",
   "metadata": {},
   "outputs": [],
   "source": []
  },
  {
   "cell_type": "code",
   "execution_count": 97,
   "id": "557f6d3c",
   "metadata": {},
   "outputs": [
    {
     "name": "stdout",
     "output_type": "stream",
     "text": [
      "[0.60620234 1.07872559]\n"
     ]
    },
    {
     "data": {
      "image/png": "[encoded data removed]",
      "text/plain": [
       "<Figure size 586.204x284.278 with 1 Axes>"
      ]
     },
     "execution_count": 97,
     "metadata": {},
     "output_type": "execute_result"
    }
   ],
   "source": [
    "qc_3 = QuantumCircuit()\n",
    "\n",
    "qr_3 = QuantumRegister(2, 'qreg')\n",
    "qc_3.add_register(qr_3)\n",
    "\n",
    "cr_3 = ClassicalRegister(2, 'creg')\n",
    "qc_3.add_register(cr_3)\n",
    "\n",
    "eta = (E1 + E2)/2\n",
    "Omega = (E1-E2)/2\n",
    "H0 = eta*np.eye(2) + Omega*pauli_z\n",
    "are = Operator(Pauli('X'))\n",
    "\n",
    "H1 = c * np.eye(2) + omega_z * pauli_z + omega_x * pauli_x\n",
    "#I = Operator( Pauli('X') )\n",
    "\n",
    "X_op = Operator(Pauli('X'))\n",
    "Z_op = Operator(Pauli('Z'))\n",
    "idty = Operator(np.eye(2))\n",
    "#c_op = Operator(Multiply(0.3))\n",
    "\n",
    "#X_op.multiply(1)\n",
    "#op_ = eta*idty + Omega*Z_op + lmd_*(c*idty + omega_z*Z_op + omega_x * X_op)\n",
    "#print(op_.is_unitary())\n",
    "#Trenger en unitær operator for å klare å implementere det. Noen idé?\n",
    "\n",
    "print(np.random.randn(2))\n",
    "\n",
    "\n",
    "qc_3.save_statevector()\n",
    "qc_3.measure(qr_3[0], cr_3[0])\n",
    "qc_3.measure(qr_3[1], cr_3[1])\n",
    "qc_3.draw('mpl')"
   ]
  },
  {
   "cell_type": "markdown",
   "id": "ca00720b",
   "metadata": {},
   "source": [
    "## Mortenmåten"
   ]
  },
  {
   "cell_type": "code",
   "execution_count": 56,
   "id": "d2bd379a",
   "metadata": {},
   "outputs": [
    {
     "name": "stdout",
     "output_type": "stream",
     "text": [
      "[[4. 1. 0. 0.]\n",
      " [1. 2. 0. 0.]\n",
      " [0. 0. 2. 1.]\n",
      " [0. 0. 1. 0.]]\n"
     ]
    }
   ],
   "source": [
    "I = np.eye(2)\n",
    "X = np.array([[0,1],[1,0]])\n",
    "Y = np.array([[0,-1j],[1j,0]])\n",
    "Z = np.array([[1,0],[0,-1]])\n",
    "\n",
    "H0 = np.kron(I,I) + np.kron(Z,I)\n",
    "H1 = np.kron(I,I) + np.kron(I,Z) + np.kron(I,X) \n",
    " \n",
    "H_tot = H0 + H1\n",
    "\n",
    "print(H_tot)"
   ]
  },
  {
   "cell_type": "code",
   "execution_count": 58,
   "id": "2e11c116",
   "metadata": {},
   "outputs": [
    {
     "name": "stdout",
     "output_type": "stream",
     "text": [
      "[ 3.00665928 -3.00665928  7.00665928  0.99334072]\n"
     ]
    },
    {
     "data": {
      "text/plain": [
       "[[2.0, [0, 1], ['I']],\n",
       " [-2.0, [0], ['Z']],\n",
       " [3.0, [1], ['Z']],\n",
       " [0.2, [1], ['X']]]"
      ]
     },
     "execution_count": 58,
     "metadata": {},
     "output_type": "execute_result"
    }
   ],
   "source": [
    "c = (v11 + v22)/2\n",
    "omega_z = (v11-v22)/2\n",
    "omega_x = v12\n",
    "eta = (E1+E2)/2\n",
    "omega_ = (E1-E2)/2\n",
    "\n",
    "HH = eta*np.kron(I,I) + omega_ * np.kron(Z,I) + c * np.kron(I,I) + omega_z * np.kron(I,Z) + omega_x * np.kron(I,X) \n",
    "val, vec = np.linalg.eig(HH)\n",
    "print(val)\n",
    "\n",
    "h1_val = c + eta\n",
    "h2_val = omega_\n",
    "h3_val = omega_z\n",
    "h4_val = omega_x\n",
    "\n",
    "h1 = [h1_val, [0,1] , ['I']]\n",
    "h2 = [h2_val, [0] , ['Z']]\n",
    "h3 = [h3_val, [1] , ['Z']]\n",
    "h4 = [h4_val, [1] , ['X']]\n",
    "\n",
    "H = [h1,h2,h3,h4]\n",
    "H"
   ]
  },
  {
   "cell_type": "code",
   "execution_count": 88,
   "id": "82ea9789",
   "metadata": {},
   "outputs": [
    {
     "data": {
      "text/html": [
       "<pre style=\"word-wrap: normal;white-space: pre;background: #fff0;line-height: 1.1;font-family: &quot;Courier New&quot;,Courier,monospace\">         ┌───────┐     \n",
       "q5705_0: ┤ Ry(0) ├──■──\n",
       "         ├───────┤┌─┴─┐\n",
       "q5705_1: ┤ Ry(1) ├┤ X ├\n",
       "         └───────┘└───┘</pre>"
      ],
      "text/plain": [
       "         ┌───────┐     \n",
       "q5705_0: ┤ Ry(0) ├──■──\n",
       "         ├───────┤┌─┴─┐\n",
       "q5705_1: ┤ Ry(1) ├┤ X ├\n",
       "         └───────┘└───┘"
      ]
     },
     "execution_count": 88,
     "metadata": {},
     "output_type": "execute_result"
    }
   ],
   "source": [
    "def ansatz(theta,n_qubits):\n",
    "    qreg = QuantumRegister(n_qubits)\n",
    "    circuit = QuantumCircuit(qreg)\n",
    "    param_list =[]\n",
    "    for j in range(len(theta)):\n",
    "        par = Parameter('theta %s' %j)\n",
    "        param_list.append(par)\n",
    "    #print(param_list)\n",
    "    for i in range(n_qubits):\n",
    "        circuit.ry(param_list[i],qreg[i])\n",
    "    for i in range(n_qubits-1):\n",
    "        circuit.cx(qreg[i],qreg[i+1])\n",
    "    dictus ={}\n",
    "    for j in range(len(theta)):\n",
    "        dictus[param_list[j]] = theta[j]\n",
    "    circuit = circuit.bind_parameters(dictus)\n",
    "    return(circuit)\n",
    "\n",
    "cc = ansatz([0,1], 2)\n",
    "cc.draw()"
   ]
  },
  {
   "cell_type": "code",
   "execution_count": 82,
   "id": "4872fb57",
   "metadata": {},
   "outputs": [
    {
     "name": "stdout",
     "output_type": "stream",
     "text": [
      "Before ansatz\n"
     ]
    },
    {
     "data": {
      "image/png": "[encoded data removed]",
      "text/plain": [
       "<Figure size 277.009x284.278 with 1 Axes>"
      ]
     },
     "execution_count": 82,
     "metadata": {},
     "output_type": "execute_result"
    }
   ],
   "source": [
    "n_qbits = 2\n",
    "theta = np.random.randn(2)\n",
    "\n",
    "qc = QuantumCircuit()\n",
    "qreg = QuantumRegister(2)\n",
    "creg = ClassicalRegister(2)\n",
    "\n",
    "qc.add_register(qreg)\n",
    "qc.add_register(creg)\n",
    "qc.h(qreg[:])\n",
    "\n",
    "print('Before ansatz')\n",
    "qc.draw('mpl')\n"
   ]
  },
  {
   "cell_type": "code",
   "execution_count": 83,
   "id": "f15cb845",
   "metadata": {},
   "outputs": [
    {
     "name": "stdout",
     "output_type": "stream",
     "text": [
      "[Parameter(theta 0), Parameter(theta 1)]\n",
      "After ansatz\n"
     ]
    },
    {
     "data": {
      "image/png": "[encoded data removed]",
      "text/plain": [
       "<Figure size 611.454x284.278 with 1 Axes>"
      ]
     },
     "execution_count": 83,
     "metadata": {},
     "output_type": "execute_result"
    }
   ],
   "source": [
    "qc = qc.compose(ansatz(theta,n_qbits))\n",
    "print('After ansatz')\n",
    "qc.draw('mpl')"
   ]
  },
  {
   "cell_type": "code",
   "execution_count": 84,
   "id": "c1ee7f72",
   "metadata": {},
   "outputs": [],
   "source": [
    "def basis_change(h_i,n_qubits):\n",
    "    qreg = QuantumRegister(n_qubits)\n",
    "    circuit = QuantumCircuit(qreg)\n",
    "    ##Må nok modifisere denne  litt da den kanskje er litt for genrell\n",
    "    for qubit,operator in zip(h_i[1],h_i[2]):\n",
    "        if operator == 'X':\n",
    "            circuit.h(qreg[qubit])\n",
    "        if operator == 'Z':\n",
    "            pass \n",
    "            #circuit.sdg(qreg[qubit])   ##Litt usikker på hvorfor vi bruker SDG\n",
    "            #circuit.h(qreg[qubit])\n",
    "    return(circuit)"
   ]
  },
  {
   "cell_type": "code",
   "execution_count": 85,
   "id": "57e0eb3b",
   "metadata": {},
   "outputs": [
    {
     "name": "stdout",
     "output_type": "stream",
     "text": [
      "[Parameter(theta 0), Parameter(theta 1)]\n",
      "After basis transformation:\n"
     ]
    },
    {
     "data": {
      "image/png": "[encoded data removed]",
      "text/plain": [
       "<Figure size 528.247x200.667 with 1 Axes>"
      ]
     },
     "execution_count": 85,
     "metadata": {},
     "output_type": "execute_result"
    }
   ],
   "source": [
    "n_qubits = 2\n",
    "theta = np.random.randn(n_qubits)\n",
    "\n",
    "qreg = QuantumRegister(n_qubits)\n",
    "qc = QuantumCircuit(qreg)\n",
    "qc = qc.compose(ansatz(theta,n_qubits))\n",
    "qc = qc.compose(basis_change(H[0],n_qubits))\n",
    "print('After basis transformation:')\n",
    "qc.draw('mpl')"
   ]
  },
  {
   "cell_type": "code",
   "execution_count": 89,
   "id": "7d8cf279",
   "metadata": {},
   "outputs": [
    {
     "data": {
      "text/plain": [
       "2.2596000000000003"
      ]
     },
     "execution_count": 89,
     "metadata": {},
     "output_type": "execute_result"
    }
   ],
   "source": [
    "def get_energy(theta):\n",
    "    n_qubits = 2\n",
    "    qreg = QuantumRegister(n_qubits)\n",
    "    qc = QuantumCircuit(qreg)\n",
    "    qc = qc.compose(ansatz(theta,n_qubits))\n",
    "    qc_list = []\n",
    "    for idx,h_i in enumerate(H):\n",
    "        basis_change_circuit = basis_change(h_i,n_qubits)\n",
    "        new_qc = qc.compose(basis_change_circuit)\n",
    "        creg = ClassicalRegister(len(h_i[1]))\n",
    "        new_qc.add_register(creg)\n",
    "        new_qc.measure(qreg[h_i[1]],creg)\n",
    "        qc_list.append(new_qc)\n",
    "        \n",
    "    shots = 10000\n",
    "    job = simulator.run(qc_list,shots=shots)\n",
    "    E = np.zeros(len(qc_list))\n",
    "    for i in range(len(E)):\n",
    "        result = job.result()\n",
    "        counts = result.get_counts(i)\n",
    "        for key,value in counts.items():\n",
    "            e = 1\n",
    "            for bit in key:\n",
    "                if bit == '0':\n",
    "                    e *= 1\n",
    "                if bit == '1':\n",
    "                    e *= -1\n",
    "            E[i] += e*value\n",
    "        E[i] *= H[i][0]\n",
    "    E /= shots\n",
    "    return(np.sum(E))\n",
    "\n",
    "theta = np.random.randn(2)\n",
    "\n",
    "get_energy(theta)"
   ]
  },
  {
   "cell_type": "code",
   "execution_count": 90,
   "id": "d012b566",
   "metadata": {},
   "outputs": [
    {
     "data": {
      "text/plain": [
       "0.9901200000000003"
      ]
     },
     "execution_count": 90,
     "metadata": {},
     "output_type": "execute_result"
    }
   ],
   "source": [
    "theta = np.random.randn(2)\n",
    "res = minimize(get_energy, theta, method='Powell',tol=1e-12)\n",
    "get_energy(res.x)"
   ]
  },
  {
   "cell_type": "code",
   "execution_count": 93,
   "id": "03b295a1",
   "metadata": {
    "scrolled": true
   },
   "outputs": [
    {
     "name": "stdout",
     "output_type": "stream",
     "text": [
      "0 2.7312800000000004\n",
      "1 2.5304800000000003\n",
      "2 2.0851599999999997\n",
      "3 1.2758\n",
      "4 -0.1583999999999999\n",
      "5 -2.09856\n",
      "6 -4.3273600000000005\n",
      "7 -5.93616\n",
      "8 -6.6774000000000004\n",
      "9 -6.900440000000001\n",
      "10 -6.97704\n",
      "11 -6.99568\n",
      "12 -6.999\n",
      "13 -7.002680000000001\n",
      "14 -7.005440000000001\n",
      "15 -7.00812\n",
      "16 -7.0052\n",
      "17 -7.004359999999999\n",
      "18 -7.00336\n",
      "19 -7.00344\n",
      "20 -7.0032\n",
      "21 -7.00508\n",
      "22 -7.0036000000000005\n",
      "23 -7.004160000000001\n",
      "24 -7.00412\n",
      "25 -7.00844\n",
      "26 -6.99956\n",
      "27 -7.001519999999999\n",
      "28 -7.00844\n",
      "29 -7.00244\n",
      "30 -7.001040000000001\n",
      "31 -7.004440000000001\n",
      "32 -7.00368\n",
      "33 -7.003640000000001\n",
      "34 -7.00052\n",
      "35 -7.00312\n",
      "36 -7.004160000000001\n",
      "37 -7.003800000000001\n",
      "38 -7.00404\n",
      "39 -7.00952\n",
      "40 -7.00236\n",
      "41 -7.00184\n",
      "42 -7.0068\n",
      "43 -7.002960000000001\n",
      "44 -7.002800000000001\n",
      "45 -7.003360000000001\n",
      "46 -7.00436\n",
      "47 -7.0040000000000004\n",
      "48 -7.002\n",
      "49 -6.99972\n",
      "50 -7.001119999999999\n",
      "51 -7.00408\n",
      "52 -7.0041199999999995\n",
      "53 -7.00372\n",
      "54 -7.00104\n",
      "55 -7.01124\n",
      "56 -7.007879999999999\n",
      "57 -7.006000000000001\n",
      "58 -7.007359999999999\n",
      "59 -7.0056\n",
      "60 -7.000520000000001\n",
      "61 -7.004080000000001\n",
      "62 -7.002120000000001\n",
      "63 -7.00844\n",
      "64 -7.0037199999999995\n",
      "65 -7.00812\n",
      "66 -7.0034\n",
      "67 -7.0\n",
      "68 -7.004560000000001\n",
      "69 -7.00652\n",
      "70 -7.00064\n",
      "71 -7.000920000000001\n",
      "72 -7.006\n",
      "73 -7.002800000000001\n",
      "74 -7.0005999999999995\n",
      "75 -7.0025200000000005\n",
      "76 -7.00196\n",
      "77 -7.002680000000001\n",
      "78 -7.00636\n",
      "79 -7.00092\n",
      "80 -7.004359999999999\n",
      "81 -7.00028\n",
      "82 -7.00164\n",
      "83 -7.004520000000001\n",
      "84 -7.004440000000001\n",
      "85 -7.00412\n",
      "86 -7.0046\n",
      "87 -7.0068399999999995\n",
      "88 -7.00476\n",
      "89 -7.006800000000001\n",
      "90 -7.00368\n",
      "91 -7.0018400000000005\n",
      "92 -7.0087600000000005\n",
      "93 -7.0018\n",
      "94 -7.00832\n",
      "95 -6.9998000000000005\n",
      "96 -7.0026399999999995\n",
      "97 -7.000160000000001\n",
      "98 -7.0088\n",
      "99 -7.003399999999999\n",
      "100 -7.00772\n",
      "101 -7.00624\n",
      "102 -7.00568\n",
      "103 -7.003240000000001\n",
      "104 -7.001640000000001\n",
      "105 -7.00688\n",
      "106 -7.000560000000001\n",
      "107 -6.999440000000001\n",
      "108 -7.00196\n",
      "109 -7.0042\n",
      "110 -7.00484\n",
      "111 -7.00904\n",
      "112 -7.00176\n",
      "113 -7.00176\n",
      "114 -7.008039999999999\n",
      "115 -7.00132\n",
      "116 -7.00272\n",
      "117 -6.99716\n",
      "118 -7.0005999999999995\n",
      "119 -7.0042800000000005\n",
      "120 -7.007440000000001\n",
      "121 -7.001200000000001\n",
      "122 -7.005200000000001\n",
      "123 -7.0048\n",
      "124 -7.002960000000001\n",
      "125 -6.99708\n",
      "126 -7.0056\n",
      "127 -7.0026\n",
      "128 -7.00412\n",
      "129 -7.001880000000001\n",
      "130 -7.004160000000001\n",
      "131 -7.007080000000001\n",
      "132 -7.004519999999999\n",
      "133 -6.99924\n",
      "134 -7.000160000000001\n",
      "135 -7.0015600000000004\n",
      "136 -7.0092\n",
      "137 -7.00016\n",
      "138 -7.00612\n",
      "139 -7.00096\n",
      "140 -7.0038800000000005\n",
      "141 -7.00228\n",
      "142 -7.0074000000000005\n",
      "143 -7.002960000000001\n",
      "144 -7.002\n",
      "145 -7.002719999999999\n",
      "146 -7.0033199999999995\n",
      "147 -7.006279999999999\n",
      "148 -7.00472\n",
      "149 -7.00708\n",
      "150 -7.003480000000001\n",
      "151 -7.004840000000001\n",
      "152 -7.006080000000001\n",
      "153 -7.00108\n",
      "154 -7.00548\n",
      "155 -7.0092\n",
      "156 -7.01048\n",
      "157 -7.003760000000001\n",
      "158 -6.999599999999999\n",
      "159 -7.00372\n",
      "160 -7.00244\n",
      "161 -7.003760000000001\n",
      "162 -7.00172\n",
      "163 -7.0042800000000005\n",
      "164 -7.0004\n",
      "165 -7.00384\n",
      "166 -7.00064\n",
      "167 -7.0056400000000005\n",
      "168 -7.0054\n",
      "169 -7.003920000000001\n",
      "170 -7.00544\n",
      "171 -6.9994000000000005\n",
      "172 -7.0025200000000005\n",
      "173 -7.00464\n",
      "174 -7.005520000000001\n",
      "175 -7.00456\n",
      "176 -7.003640000000001\n",
      "177 -6.99864\n",
      "178 -7.00356\n",
      "179 -7.00256\n",
      "180 -7.00368\n",
      "181 -7.00112\n",
      "182 -7.00664\n",
      "183 -7.0016799999999995\n",
      "184 -7.00308\n",
      "185 -7.00668\n",
      "186 -7.007360000000001\n",
      "187 -7.00816\n",
      "188 -7.00228\n",
      "189 -7.006\n",
      "190 -7.00564\n",
      "191 -7.00428\n",
      "192 -7.00392\n",
      "193 -7.00548\n",
      "194 -7.00308\n",
      "195 -7.00684\n",
      "196 -7.0025200000000005\n",
      "197 -7.002\n",
      "198 -7.0018400000000005\n",
      "199 -7.001720000000001\n"
     ]
    }
   ],
   "source": [
    "epochs = 200\n",
    "theta = np.random.randn(2)\n",
    "for epoch in range(epochs):\n",
    "    print(epoch,get_energy(theta))\n",
    "    grad = np.zeros_like(theta)\n",
    "    for idx in range(theta.shape[0]):\n",
    "        theta_temp = theta.copy()\n",
    "        theta_temp[idx] += np.pi/2\n",
    "        E_plus = get_energy(theta_temp)\n",
    "        theta_temp[idx] -= np.pi\n",
    "        E_minus = get_energy(theta_temp)\n",
    "        grad[idx] = (E_plus - E_minus)/2\n",
    "    theta -= 0.1*grad"
   ]
  },
  {
   "cell_type": "code",
   "execution_count": null,
   "id": "238c4fb9",
   "metadata": {},
   "outputs": [],
   "source": []
  },
  {
   "cell_type": "code",
   "execution_count": null,
   "id": "b330874f",
   "metadata": {},
   "outputs": [],
   "source": []
  },
  {
   "cell_type": "code",
   "execution_count": 9,
   "id": "16c623cc",
   "metadata": {},
   "outputs": [
    {
     "data": {
      "text/plain": [
       "(-3.207020335903938, -3.207020335903938)"
      ]
     },
     "execution_count": 9,
     "metadata": {},
     "output_type": "execute_result"
    }
   ],
   "source": [
    "#1d\n",
    "#Skal gjennomføres som funksjon av lambda, tar det siden\n",
    "lmd_ = 0.8\n",
    "s_00 = np.array([1,0,0,0])\n",
    "s_10 = np.array([0,1,0,0])\n",
    "s_01 = np.array([0,0,1,0])\n",
    "s_11 = np.array([0,0,0,1])\n",
    "#Kan eventuelt bruke np.kron( [1,0], [0,1])\n",
    "        \n",
    "eps_list = [0,2.5,6.5,7]\n",
    "H0 = np.eye(4)\n",
    "H0[0,0] = eps_list[0];H0[1,1] = eps_list[1];H0[2,2] = eps_list[2];H0[3,3] = eps_list[3]\n",
    "\n",
    "pauli_x = np.matrix([[0,1],[1,0]])\n",
    "pauli_z = np.matrix([[1,0],[0,-1]])\n",
    "H_x = 2.0\n",
    "H_z = 3.0\n",
    "H_I = H_x * np.kron(pauli_x, pauli_x) + H_z * np.kron(pauli_z, pauli_z)\n",
    "\n",
    "H_tot = H0 + lmd_*H_I\n",
    "#print(H_tot)\n",
    "\n",
    "eig_vals, eig_vecs = np.linalg.eig(H_tot)\n",
    "#print(eig_vals) \n",
    "#print()\n",
    "#print(eig_vecs)\n",
    "\n",
    "#Computing partial density matrix\n",
    "rho_a = (eig_vecs[0].max() + eig_vecs[1].max()) * np.outer(s_00,s_00) + (eig_vecs[2].max() + eig_vecs[3].max()) * np.outer(s_11,s_11)\n",
    "rho_b = (eig_vecs[0].max() + eig_vecs[2].max()) * np.outer(s_00,s_00) + (eig_vecs[1].max() + eig_vecs[3].max()) * np.outer(s_11,s_11)\n",
    "\n",
    "#Compute entropy\n",
    "S_a = - np.trace(rho_a)*np.log2(np.trace(rho_a))\n",
    "S_b = - np.trace(rho_b)*np.log2(np.trace(rho_b))\n",
    "S_a, S_b"
   ]
  },
  {
   "cell_type": "code",
   "execution_count": 20,
   "id": "5c90a892",
   "metadata": {},
   "outputs": [
    {
     "data": {
      "text/plain": [
       "<matplotlib.legend.Legend at 0x23e015c2770>"
      ]
     },
     "execution_count": 20,
     "metadata": {},
     "output_type": "execute_result"
    },
    {
     "data": {
      "image/png": "[encoded data removed]",
      "text/plain": [
       "<Figure size 640x480 with 1 Axes>"
      ]
     },
     "metadata": {},
     "output_type": "display_data"
    }
   ],
   "source": [
    "n = 1000\n",
    "lambdas = np.linspace(0,1,n)\n",
    "Es = np.zeros((n,4))\n",
    "C1s, C2s  = np.zeros_like(Es), np.zeros_like(Es)\n",
    "\n",
    "for i, lmd_ in enumerate(lambdas):\n",
    "    H_ = H0 + lmd_*H1\n",
    "    eig_val, eig_vec = np.linalg.eigh(H_)\n",
    "    #print(eig_val)\n",
    "    #print(eig_vec.shape)\n",
    "    Es[i,:] = eig_val\n",
    "    #C1s[i,:] = eig_vec[:,0]\n",
    "    #C2s[i,:] = eig_vec[:,1] \n",
    "\n",
    "fig, ax = plt.subplots()\n",
    "ax.plot(lambdas, Es[:,0], label=r\"$E_0$\")\n",
    "ax.plot(lambdas, Es[:,1], label=r\"$E_1$\")\n",
    "ax.set(xlabel=r\"$\\lambda$\", ylabel=\"E [magic]\")\n",
    "ax.legend() # Kan legge til fancy-pancy color bar for a vise \"change of character\" opplegget?"
   ]
  },
  {
   "cell_type": "markdown",
   "id": "aef3acf9",
   "metadata": {},
   "source": [
    "The entropy is as expected, similar, as there are no difference in the configuration of the two states. As such, there should be an equal amount of entanglement entropy. The energies follow the same asymptotic convergence, which indeed confirms their entanglement."
   ]
  },
  {
   "cell_type": "markdown",
   "id": "90bc3ab6",
   "metadata": {},
   "source": [
    "## Stian-måten\n"
   ]
  },
  {
   "cell_type": "code",
   "execution_count": 21,
   "id": "6dff4de6",
   "metadata": {},
   "outputs": [],
   "source": [
    "#import numpy as np\n",
    "#import qiskit as qk\n",
    "from scipy.optimize import minimize\n",
    "simulator = qk.Aer.get_backend('qasm_simulator') "
   ]
  },
  {
   "cell_type": "code",
   "execution_count": 22,
   "id": "bf836b83",
   "metadata": {},
   "outputs": [],
   "source": [
    "n_qubits = 2\n",
    "n_cbits = 2\n",
    "qreg = qk.QuantumRegister(n_qubits)\n",
    "creg = qk.ClassicalRegister(n_cbits)\n",
    "circuit = qk.QuantumCircuit(qreg,creg)"
   ]
  },
  {
   "cell_type": "code",
   "execution_count": null,
   "id": "ad90538b",
   "metadata": {},
   "outputs": [],
   "source": []
  },
  {
   "cell_type": "code",
   "execution_count": null,
   "id": "bd863e23",
   "metadata": {},
   "outputs": [],
   "source": []
  },
  {
   "cell_type": "code",
   "execution_count": 23,
   "id": "72499493",
   "metadata": {},
   "outputs": [
    {
     "name": "stdout",
     "output_type": "stream",
     "text": [
      "[-1.32842712  2.46887113  4.32842712 10.53112887]\n",
      "[[-0.         -0.96649965  0.         -0.25666794]\n",
      " [ 0.92387953  0.         -0.38268343  0.        ]\n",
      " [-0.38268343  0.         -0.92387953  0.        ]\n",
      " [ 0.          0.25666794  0.         -0.96649965]]\n"
     ]
    }
   ],
   "source": [
    "I = np.eye(2)\n",
    "X = np.array([[0,1],[1,0]])\n",
    "Y = np.array([[0,-1j],[1j,0]])\n",
    "Z = np.array([[1,0],[0,-1]])\n",
    "hx = 2; hz = 3; eps_list = [0,2.5,6.5,7]\n",
    "\n",
    "H_0 = np.matrix([[eps_list[0],0,0,0],[0,eps_list[1],0,0],[0,0,eps_list[2],0],[0,0,0,eps_list[3]]])\n",
    "H_I = hx * np.kron(X,X) + hz* np.kron(Z,Z) \n",
    "H = H_0 + H_I\n",
    "eigvals,eigvecs = np.linalg.eigh(H)\n",
    "print(eigvals)\n",
    "print(eigvecs)\n",
    "\n",
    "c_1 = 1\n",
    "c_2 = 1\n",
    "c_3 = 1\n",
    "\n",
    "h_1 = [c_1,[0],['z,z']]\n",
    "h_2 = [c_2,[1],['x,x']]\n",
    "H = [h_1,h_2]"
   ]
  },
  {
   "cell_type": "code",
   "execution_count": null,
   "id": "5dc4f138",
   "metadata": {},
   "outputs": [],
   "source": [
    "def ansatz(theta,n_qubits):\n",
    "    qreg = qk.QuantumRegister(n_qubits)\n",
    "    circuit = qk.QuantumCircuit(qreg)\n",
    "    for i in range(n_qubits):\n",
    "        circuit.ry(theta[i],qreg[i])\n",
    "    for i in range(n_qubits-1):\n",
    "        circuit.cx(qreg[i],qreg[i+1])\n",
    "    return(circuit)"
   ]
  },
  {
   "cell_type": "code",
   "execution_count": 94,
   "id": "3e7cd19d",
   "metadata": {},
   "outputs": [
    {
     "name": "stdout",
     "output_type": "stream",
     "text": [
      "Before ansatz\n",
      "          ┌───┐\n",
      "q13396_0: ┤ H ├\n",
      "          ├───┤\n",
      "q13396_1: ┤ H ├\n",
      "          └───┘\n",
      "After ansatz\n",
      "          ┌───┐┌────────────────────────┐     \n",
      "q13396_0: ┤ H ├┤ Ry(-0.341078715301854) ├──■──\n",
      "          ├───┤├────────────────────────┤┌─┴─┐\n",
      "q13396_1: ┤ H ├┤ Ry(-0.849577554217697) ├┤ X ├\n",
      "          └───┘└────────────────────────┘└───┘\n"
     ]
    }
   ],
   "source": [
    "\n",
    "\n",
    "qreg = qk.QuantumRegister(n_qubits)\n",
    "circuit = qk.QuantumCircuit(qreg)\n",
    "circuit.h(qreg[:2])\n",
    "print('Before ansatz')\n",
    "print(circuit.draw())\n",
    "theta = np.random.randn(2)\n",
    "n_qubits = 2\n",
    "circuit = circuit.compose(ansatz(theta,n_qubits))\n",
    "print('After ansatz')\n",
    "print(circuit.draw())"
   ]
  },
  {
   "cell_type": "code",
   "execution_count": 95,
   "id": "e9965fab",
   "metadata": {},
   "outputs": [
    {
     "name": "stdout",
     "output_type": "stream",
     "text": [
      "Ansatz circuit\n",
      "          ┌────────────────────────┐     \n",
      "q13398_0: ┤ Ry(-0.548523047599605) ├──■──\n",
      "          ├───────────────────────┬┘┌─┴─┐\n",
      "q13398_1: ┤ Ry(-1.21501907978202) ├─┤ X ├\n",
      "          └───────────────────────┘ └───┘\n",
      "After basis transformation:\n",
      "          ┌────────────────────────┐     \n",
      "q13398_0: ┤ Ry(-0.548523047599605) ├──■──\n",
      "          ├───────────────────────┬┘┌─┴─┐\n",
      "q13398_1: ┤ Ry(-1.21501907978202) ├─┤ X ├\n",
      "          └───────────────────────┘ └───┘\n"
     ]
    }
   ],
   "source": [
    "def basis_change(h_i,n_qubits):\n",
    "    qreg = qk.QuantumRegister(n_qubits)\n",
    "    circuit = qk.QuantumCircuit(qreg)\n",
    "    \n",
    "    for qubit,operator in zip(h_i[1],h_i[2]):\n",
    "        if operator == 'x':\n",
    "            circuit.h(qreg[qubit])\n",
    "        if operator == 'z':\n",
    "            circuit.sdg(qreg[qubit])\n",
    "            circuit.h(qreg[qubit])\n",
    "    return(circuit)\n",
    "n_qubits = 2\n",
    "qreg = qk.QuantumRegister(n_qubits)\n",
    "circuit = qk.QuantumCircuit(qreg)\n",
    "theta = np.random.randn(n_qubits)\n",
    "circuit = circuit.compose(ansatz(theta,n_qubits))\n",
    "print('Ansatz circuit')\n",
    "print(circuit.draw())\n",
    "circuit = circuit.compose(basis_change(H[1],n_qubits))\n",
    "print('After basis transformation:')\n",
    "print(circuit.draw())"
   ]
  },
  {
   "cell_type": "code",
   "execution_count": 96,
   "id": "00a51448",
   "metadata": {},
   "outputs": [
    {
     "data": {
      "text/plain": [
       "2.83168"
      ]
     },
     "execution_count": 96,
     "metadata": {},
     "output_type": "execute_result"
    }
   ],
   "source": [
    "def get_energy(theta):\n",
    "    n_qubits = 2\n",
    "    qreg = qk.QuantumRegister(n_qubits)\n",
    "    circuit = qk.QuantumCircuit(qreg)\n",
    "    circuit = circuit.compose(ansatz(theta,n_qubits))\n",
    "    circuit_list = []\n",
    "    for idx,h_i in enumerate(H):\n",
    "        basis_change_circuit = basis_change(h_i,n_qubits)\n",
    "        new_circuit = circuit.compose(basis_change_circuit)\n",
    "        creg = qk.ClassicalRegister(len(h_i[1]))\n",
    "        new_circuit.add_register(creg)\n",
    "        new_circuit.measure(qreg[h_i[1]],creg)\n",
    "        circuit_list.append(new_circuit)\n",
    "    shots = 10000\n",
    "    job = simulator.run(circuit_list,shots=shots)\n",
    "    E = np.zeros(len(circuit_list))\n",
    "    for i in range(len(circuit_list)):\n",
    "        result = job.result()\n",
    "        counts = result.get_counts(i)\n",
    "        for key,value in counts.items():\n",
    "            e = 1\n",
    "            for bit in key:\n",
    "                if bit == '0':\n",
    "                    e *= 1\n",
    "                if bit == '1':\n",
    "                    e *= -1\n",
    "            E[i] += e*value\n",
    "        E[i] *= H[i][0]\n",
    "    E /= shots\n",
    "    return(np.sum(E))\n",
    "\n",
    "theta = np.random.randn(2)\n",
    "get_energy(theta)"
   ]
  },
  {
   "cell_type": "code",
   "execution_count": 97,
   "id": "f83b8632",
   "metadata": {},
   "outputs": [
    {
     "data": {
      "text/plain": [
       "-7.2"
      ]
     },
     "execution_count": 97,
     "metadata": {},
     "output_type": "execute_result"
    }
   ],
   "source": [
    "#Minimize the data\n",
    "theta = np.random.randn(2)\n",
    "res = minimize(get_energy, theta, method='Powell',tol=1e-12)\n",
    "get_energy(res.x)"
   ]
  },
  {
   "cell_type": "code",
   "execution_count": null,
   "id": "a73f2197",
   "metadata": {},
   "outputs": [],
   "source": []
  },
  {
   "cell_type": "code",
   "execution_count": 99,
   "id": "41ca6e4a",
   "metadata": {
    "scrolled": true
   },
   "outputs": [
    {
     "name": "stdout",
     "output_type": "stream",
     "text": [
      "0 2.8587599999999997\n",
      "1 2.5185999999999997\n",
      "2 1.74168\n",
      "3 0.23412000000000022\n",
      "4 -2.06448\n",
      "5 -4.63068\n",
      "6 -6.2926400000000005\n",
      "7 -6.95284\n",
      "8 -7.1316\n",
      "9 -7.18796\n",
      "10 -7.19696\n",
      "11 -7.19956\n",
      "12 -7.2\n",
      "13 -7.2\n",
      "14 -7.19956\n",
      "15 -7.1994\n",
      "16 -7.1994\n",
      "17 -7.2\n",
      "18 -7.2\n",
      "19 -7.2\n",
      "20 -7.2\n",
      "21 -7.2\n",
      "22 -7.2\n",
      "23 -7.2\n",
      "24 -7.2\n",
      "25 -7.2\n",
      "26 -7.2\n",
      "27 -7.1994\n",
      "28 -7.2\n",
      "29 -7.2\n",
      "30 -7.2\n",
      "31 -7.2\n",
      "32 -7.2\n",
      "33 -7.2\n",
      "34 -7.2\n",
      "35 -7.2\n",
      "36 -7.2\n",
      "37 -7.19996\n",
      "38 -7.2\n",
      "39 -7.2\n",
      "40 -7.2\n",
      "41 -7.2\n",
      "42 -7.2\n",
      "43 -7.2\n",
      "44 -7.2\n",
      "45 -7.2\n",
      "46 -7.2\n",
      "47 -7.2\n",
      "48 -7.19996\n",
      "49 -7.2\n",
      "50 -7.2\n",
      "51 -7.19996\n",
      "52 -7.2\n",
      "53 -7.2\n",
      "54 -7.2\n",
      "55 -7.2\n",
      "56 -7.2\n",
      "57 -7.2\n",
      "58 -7.2\n",
      "59 -7.2\n",
      "60 -7.2\n",
      "61 -7.2\n",
      "62 -7.2\n",
      "63 -7.1994\n",
      "64 -7.2\n",
      "65 -7.2\n",
      "66 -7.2\n",
      "67 -7.2\n",
      "68 -7.2\n",
      "69 -7.2\n",
      "70 -7.2\n",
      "71 -7.2\n",
      "72 -7.2\n",
      "73 -7.2\n",
      "74 -7.2\n",
      "75 -7.2\n",
      "76 -7.2\n",
      "77 -7.2\n",
      "78 -7.2\n",
      "79 -7.2\n",
      "80 -7.2\n",
      "81 -7.2\n",
      "82 -7.2\n",
      "83 -7.2\n",
      "84 -7.2\n",
      "85 -7.2\n",
      "86 -7.2\n",
      "87 -7.2\n",
      "88 -7.2\n",
      "89 -7.2\n",
      "90 -7.1994\n",
      "91 -7.2\n",
      "92 -7.2\n",
      "93 -7.2\n",
      "94 -7.1994\n",
      "95 -7.2\n",
      "96 -7.19996\n",
      "97 -7.2\n",
      "98 -7.2\n",
      "99 -7.2\n",
      "100 -7.2\n",
      "101 -7.2\n",
      "102 -7.2\n",
      "103 -7.2\n",
      "104 -7.2\n",
      "105 -7.2\n",
      "106 -7.2\n",
      "107 -7.2\n",
      "108 -7.2\n",
      "109 -7.2\n",
      "110 -7.2\n",
      "111 -7.2\n",
      "112 -7.2\n",
      "113 -7.2\n",
      "114 -7.1996\n",
      "115 -7.2\n",
      "116 -7.2\n",
      "117 -7.2\n",
      "118 -7.2\n",
      "119 -7.2\n",
      "120 -7.2\n",
      "121 -7.2\n",
      "122 -7.2\n",
      "123 -7.2\n",
      "124 -7.2\n",
      "125 -7.2\n",
      "126 -7.2\n",
      "127 -7.2\n",
      "128 -7.2\n",
      "129 -7.2\n",
      "130 -7.2\n",
      "131 -7.2\n",
      "132 -7.2\n",
      "133 -7.2\n",
      "134 -7.2\n",
      "135 -7.2\n",
      "136 -7.2\n",
      "137 -7.2\n",
      "138 -7.2\n",
      "139 -7.2\n",
      "140 -7.2\n",
      "141 -7.2\n",
      "142 -7.2\n",
      "143 -7.2\n",
      "144 -7.2\n",
      "145 -7.2\n",
      "146 -7.2\n",
      "147 -7.2\n",
      "148 -7.2\n",
      "149 -7.2\n",
      "150 -7.2\n",
      "151 -7.2\n",
      "152 -7.1996\n",
      "153 -7.2\n",
      "154 -7.1994\n",
      "155 -7.2\n",
      "156 -7.2\n",
      "157 -7.2\n",
      "158 -7.2\n",
      "159 -7.2\n",
      "160 -7.2\n",
      "161 -7.2\n",
      "162 -7.19916\n",
      "163 -7.2\n",
      "164 -7.2\n",
      "165 -7.2\n",
      "166 -7.2\n",
      "167 -7.2\n",
      "168 -7.2\n",
      "169 -7.2\n",
      "170 -7.1996\n",
      "171 -7.1994\n",
      "172 -7.2\n",
      "173 -7.2\n",
      "174 -7.2\n",
      "175 -7.2\n",
      "176 -7.2\n",
      "177 -7.2\n",
      "178 -7.2\n",
      "179 -7.2\n",
      "180 -7.2\n",
      "181 -7.2\n",
      "182 -7.2\n",
      "183 -7.2\n",
      "184 -7.2\n",
      "185 -7.2\n",
      "186 -7.2\n",
      "187 -7.2\n",
      "188 -7.2\n",
      "189 -7.2\n",
      "190 -7.2\n",
      "191 -7.2\n",
      "192 -7.2\n",
      "193 -7.2\n",
      "194 -7.1994\n",
      "195 -7.2\n",
      "196 -7.2\n",
      "197 -7.2\n",
      "198 -7.2\n",
      "199 -7.2\n"
     ]
    }
   ],
   "source": [
    "##Gradient descent\n",
    "epochs = 200\n",
    "theta = np.random.randn(2)\n",
    "for epoch in range(epochs):\n",
    "    print(epoch,get_energy(theta))\n",
    "    grad = np.zeros_like(theta)\n",
    "    for idx in range(theta.shape[0]):\n",
    "        theta_temp = theta.copy()\n",
    "        theta_temp[idx] += np.pi/2\n",
    "        E_plus = get_energy(theta_temp)\n",
    "        theta_temp[idx] -= np.pi\n",
    "        E_minus = get_energy(theta_temp)\n",
    "        grad[idx] = (E_plus - E_minus)/2\n",
    "    theta -= 0.1*grad"
   ]
  },
  {
   "cell_type": "markdown",
   "id": "9ee0d5d8",
   "metadata": {},
   "source": [
    "## 1f)"
   ]
  },
  {
   "cell_type": "code",
   "execution_count": 100,
   "id": "91412801",
   "metadata": {},
   "outputs": [
    {
     "name": "stdout",
     "output_type": "stream",
     "text": [
      "[-3.46987031e+01  9.09862463e-16  3.46987031e+01 -0.00000000e+00]\n",
      "[-30.01666204  30.01666204]\n"
     ]
    }
   ],
   "source": [
    "v = 10\n",
    "I = np.eye(2)\n",
    "H_4 = -(np.kron(pauli_z,I) + np.kron(I, pauli_z)) - np.sqrt(6)/2 * v *(np.kron(pauli_x, I) + \n",
    "                                                                       np.kron(I, pauli_x) + \n",
    "                                                                       np.kron(pauli_x, pauli_z) - \n",
    "                                                                       np.kron(pauli_z, pauli_x))\n",
    "H_4_o = - pauli_z - 3*v*pauli_x\n",
    "\n",
    "\n",
    "eigval_even, eigvec_even = np.linalg.eig(H_4)\n",
    "eigval_odd, eigvec_odd = np.linalg.eig(H_4_o)\n",
    "\n",
    "print(eigval_even)\n",
    "print(eigval_odd)\n",
    "\n",
    "H_op = Operator(H_4)\n"
   ]
  },
  {
   "cell_type": "markdown",
   "id": "76a1da48",
   "metadata": {},
   "source": [
    "Disse verdiene stemmer på en såkalt prikk med analytiske verdier. Det er jo ganske lovende. Det er mulig her å lage noen fancy plot der vi varierer på v, eller tilnærmer Hartree-Fock?\n",
    "\n",
    "Det er ganske snodig dette med VQE, men prøver bare:"
   ]
  },
  {
   "cell_type": "code",
   "execution_count": 101,
   "id": "457903ee",
   "metadata": {},
   "outputs": [],
   "source": [
    "h1_lip = [-1, [0,1], ['z']]\n",
    "h2_lip = [-np.sqrt(6)/2*v, [0], ['x']]\n",
    "h3_lip = [-np.sqrt(6)/2*v, [1], ['x']]\n",
    "h4_lip = [-np.sqrt(6)/2*v, [0,1], ['xz']]\n",
    "h5_lip = [np.sqrt(6)/2*v, [0,1], ['zx']]\n",
    "H_4_lip = [h1_lip, h2_lip, h3_lip, h4_lip, h5_lip]"
   ]
  },
  {
   "cell_type": "code",
   "execution_count": 170,
   "id": "3029f738",
   "metadata": {},
   "outputs": [
    {
     "name": "stdout",
     "output_type": "stream",
     "text": [
      "-16.82826035089416 [-0.276431   1.5419098]\n",
      "-30.02549526182895 [0.24590444 1.8847525 ]\n",
      "-31.935086045955554 [0.58170497 1.6373698 ]\n",
      "-32.99385336866469 [0.72240017 2.02960939]\n",
      "-32.994816630145074 [0.49236297 1.86234466]\n",
      "-33.34084213259141 [0.50508568 1.91340877]\n",
      "-33.53565692484345 [0.65597264 2.17857645]\n",
      "-33.89114008114805 [0.61775106 2.06065331]\n"
     ]
    }
   ],
   "source": [
    "import qiskit as qk\n",
    "def ansatz(theta,n_qubits):\n",
    "    qreg = QuantumRegister(n_qubits)\n",
    "    circuit = QuantumCircuit(qreg)\n",
    "    #print(theta)\n",
    "    param_list =[]\n",
    "    for j in range(len(theta)):\n",
    "        par = Parameter('theta %s' %j)\n",
    "        param_list.append(par)\n",
    "    \n",
    "    for i in range(n_qubits):\n",
    "        circuit.ry(param_list[i-1],qreg[i])\n",
    "    for i in range(n_qubits-1):\n",
    "        circuit.cry(param_list[i],qreg[i],qreg[i+1])\n",
    "    #print(param_list)    \n",
    "    dictus ={}\n",
    "    for j in range(len(theta)):\n",
    "        dictus[param_list[j]] = theta[j]\n",
    "    circuit = circuit.bind_parameters(dictus)\n",
    "    circuit = transpile(circuit, backend = simulator)\n",
    "    return(circuit)\n",
    "\n",
    "def basis_change(h_i , n_qubits):\n",
    "    qreg = qk.QuantumRegister(n_qubits)\n",
    "    circuit = qk.QuantumCircuit(qreg)\n",
    "    circuit = circuit.compose(ansatz(theta,n_qubits))\n",
    "\n",
    "    for qubit,operator in zip(h_i[1],h_i[2]):\n",
    "        #if operator == 'z':\n",
    "            #circuit.z(qreg[qubit])\n",
    "            #circuit.z(qreg[qubit+1])\n",
    "        if operator == 'x':\n",
    "            if qubit == 1:\n",
    "                circuit.h(qreg[qubit])#, qreg[qubit-1])\n",
    "            if qubit == 0:\n",
    "                circuit.h(qreg[qubit])#, qreg[qubit+1])\n",
    "        if operator == 'xz':\n",
    "            #circuit.z(qreg[qubit+1])\n",
    "            circuit.h(qreg[qubit])\n",
    "        if operator == 'zx':\n",
    "            #circuit.z(qreg[qubit])\n",
    "            circuit.h(qreg[qubit+1])\n",
    "    return(circuit)\n",
    "\n",
    "def get_energy(theta, n_qubits=2):\n",
    "    #theta1 = qk.circuit.Parameter('theta')\n",
    "    qreg = qk.QuantumRegister(n_qubits)\n",
    "    circuit = qk.QuantumCircuit(qreg)\n",
    "    circuit_list = []\n",
    "    for idx,h_i in enumerate(H_4_lip):\n",
    "        basis_change_circuit = basis_change(h_i,n_qubits)\n",
    "        new_circuit = circuit.compose(basis_change_circuit)\n",
    "        creg = qk.ClassicalRegister(len(h_i[1]))\n",
    "        new_circuit.add_register(creg)\n",
    "        new_circuit.measure(qreg[h_i[1]],creg)\n",
    "        #print(new_circuit.draw())\n",
    "\n",
    "        circuit_list.append(new_circuit)\n",
    "    shots = 10000\n",
    "    job = simulator.run(circuit_list,shots=shots)\n",
    "    E = np.zeros(len(circuit_list))\n",
    "    for i in range(len(circuit_list)):\n",
    "        result = job.result()\n",
    "        counts = result.get_counts(i)\n",
    "        for key,value in counts.items():\n",
    "            e = 1\n",
    "            for bit in key:\n",
    "                if bit == '0':\n",
    "                    e *= 1\n",
    "                if bit == '1':\n",
    "                    e *= -1\n",
    "            E[i] += e*value\n",
    "        E[i] *= H_4_lip[i][0]\n",
    "    E /= shots\n",
    "    return(np.sum(E))\n",
    "\n",
    "\n",
    "\n",
    "minval = 0 \n",
    "for i in range(10000):\n",
    "    theta= np.random.randn(2)\n",
    "    a = get_energy(theta)\n",
    "    if a<minval:\n",
    "        print(a, theta)\n",
    "        minval=a\n",
    "#print(a)"
   ]
  },
  {
   "cell_type": "markdown",
   "id": "331874ef",
   "metadata": {},
   "source": [
    "Har her en beste på -33.91"
   ]
  },
  {
   "cell_type": "code",
   "execution_count": 132,
   "id": "b8d40fb9",
   "metadata": {},
   "outputs": [
    {
     "data": {
      "text/plain": [
       "-19.475647032134034"
      ]
     },
     "execution_count": 132,
     "metadata": {},
     "output_type": "execute_result"
    }
   ],
   "source": [
    "n_qubits = 2\n",
    "theta = np.random.randn(2)\n",
    "res = minimize(get_energy, theta, method='Powell',tol=1e-12)\n",
    "get_energy(res.x)"
   ]
  },
  {
   "cell_type": "markdown",
   "id": "f995105f",
   "metadata": {},
   "source": [
    "Egenverdier skal være $\\big[0, \\pm 30.01,\\pm 34.69 \\big]$ for v = 10, der 30 er for 2x2 matrisen.\n",
    "\n",
    "Det er forskjell i hvilke forventningsverdier jeg får her og i det analytiske. Tror vi at det er fordi rotasjonsgatene påvirker det endelige resultatet, eller er det fordi jeg har implementert gates feil? Tar veldig gjerne input."
   ]
  },
  {
   "cell_type": "code",
   "execution_count": 130,
   "id": "00243d69",
   "metadata": {
    "scrolled": false
   },
   "outputs": [
    {
     "name": "stdout",
     "output_type": "stream",
     "text": [
      "0 3.236527470573731\n",
      "1 3.618245829419041\n",
      "2 3.3187565500278415\n",
      "3 3.6110973601906915\n",
      "4 3.6766789909308852\n",
      "5 3.5738045037917257\n",
      "6 3.5198662397077136\n"
     ]
    },
    {
     "ename": "KeyboardInterrupt",
     "evalue": "",
     "output_type": "error",
     "traceback": [
      "\u001b[1;31m---------------------------------------------------------------------------\u001b[0m",
      "\u001b[1;31mKeyboardInterrupt\u001b[0m                         Traceback (most recent call last)",
      "Cell \u001b[1;32mIn[130], line 10\u001b[0m\n\u001b[0;32m      8\u001b[0m theta_temp \u001b[38;5;241m=\u001b[39m theta\u001b[38;5;241m.\u001b[39mcopy()\n\u001b[0;32m      9\u001b[0m theta_temp[idx] \u001b[38;5;241m+\u001b[39m\u001b[38;5;241m=\u001b[39m np\u001b[38;5;241m.\u001b[39mpi\u001b[38;5;241m/\u001b[39m\u001b[38;5;241m2\u001b[39m\n\u001b[1;32m---> 10\u001b[0m E_plus \u001b[38;5;241m=\u001b[39m \u001b[43mget_energy\u001b[49m\u001b[43m(\u001b[49m\u001b[43mtheta_temp\u001b[49m\u001b[43m,\u001b[49m\u001b[38;5;241;43m2\u001b[39;49m\u001b[43m)\u001b[49m\n\u001b[0;32m     11\u001b[0m theta_temp[idx] \u001b[38;5;241m-\u001b[39m\u001b[38;5;241m=\u001b[39m np\u001b[38;5;241m.\u001b[39mpi\n\u001b[0;32m     12\u001b[0m E_minus \u001b[38;5;241m=\u001b[39m get_energy(theta_temp,\u001b[38;5;241m2\u001b[39m)\n",
      "Cell \u001b[1;32mIn[125], line 77\u001b[0m, in \u001b[0;36mget_energy\u001b[1;34m(theta, n_qubits)\u001b[0m\n\u001b[0;32m     75\u001b[0m E \u001b[38;5;241m=\u001b[39m np\u001b[38;5;241m.\u001b[39mzeros(\u001b[38;5;28mlen\u001b[39m(circuit_list))\n\u001b[0;32m     76\u001b[0m \u001b[38;5;28;01mfor\u001b[39;00m i \u001b[38;5;129;01min\u001b[39;00m \u001b[38;5;28mrange\u001b[39m(\u001b[38;5;28mlen\u001b[39m(circuit_list)):\n\u001b[1;32m---> 77\u001b[0m     result \u001b[38;5;241m=\u001b[39m \u001b[43mjob\u001b[49m\u001b[38;5;241;43m.\u001b[39;49m\u001b[43mresult\u001b[49m\u001b[43m(\u001b[49m\u001b[43m)\u001b[49m\n\u001b[0;32m     78\u001b[0m     counts \u001b[38;5;241m=\u001b[39m result\u001b[38;5;241m.\u001b[39mget_counts(i)\n\u001b[0;32m     79\u001b[0m     \u001b[38;5;28;01mfor\u001b[39;00m key,value \u001b[38;5;129;01min\u001b[39;00m counts\u001b[38;5;241m.\u001b[39mitems():\n",
      "File \u001b[1;32m~\\anaconda3\\envs\\heia\\lib\\site-packages\\qiskit_aer\\jobs\\utils.py:41\u001b[0m, in \u001b[0;36mrequires_submit.<locals>._wrapper\u001b[1;34m(self, *args, **kwargs)\u001b[0m\n\u001b[0;32m     39\u001b[0m \u001b[38;5;28;01mif\u001b[39;00m \u001b[38;5;28mself\u001b[39m\u001b[38;5;241m.\u001b[39m_future \u001b[38;5;129;01mis\u001b[39;00m \u001b[38;5;28;01mNone\u001b[39;00m:\n\u001b[0;32m     40\u001b[0m     \u001b[38;5;28;01mraise\u001b[39;00m JobError(\u001b[38;5;124m\"\u001b[39m\u001b[38;5;124mJob not submitted yet!. You have to .submit() first!\u001b[39m\u001b[38;5;124m\"\u001b[39m)\n\u001b[1;32m---> 41\u001b[0m \u001b[38;5;28;01mreturn\u001b[39;00m func(\u001b[38;5;28mself\u001b[39m, \u001b[38;5;241m*\u001b[39margs, \u001b[38;5;241m*\u001b[39m\u001b[38;5;241m*\u001b[39mkwargs)\n",
      "File \u001b[1;32m~\\anaconda3\\envs\\heia\\lib\\site-packages\\qiskit_aer\\jobs\\aerjob.py:78\u001b[0m, in \u001b[0;36mAerJob.result\u001b[1;34m(self, timeout)\u001b[0m\n\u001b[0;32m     60\u001b[0m \u001b[38;5;129m@requires_submit\u001b[39m\n\u001b[0;32m     61\u001b[0m \u001b[38;5;28;01mdef\u001b[39;00m \u001b[38;5;21mresult\u001b[39m(\u001b[38;5;28mself\u001b[39m, timeout\u001b[38;5;241m=\u001b[39m\u001b[38;5;28;01mNone\u001b[39;00m):\n\u001b[0;32m     62\u001b[0m     \u001b[38;5;66;03m# pylint: disable=arguments-differ\u001b[39;00m\n\u001b[0;32m     63\u001b[0m \u001b[38;5;250m    \u001b[39m\u001b[38;5;124;03m\"\"\"Get job result. The behavior is the same as the underlying\u001b[39;00m\n\u001b[0;32m     64\u001b[0m \u001b[38;5;124;03m    concurrent Future objects,\u001b[39;00m\n\u001b[0;32m     65\u001b[0m \n\u001b[1;32m   (...)\u001b[0m\n\u001b[0;32m     76\u001b[0m \u001b[38;5;124;03m        concurrent.futures.CancelledError: if job cancelled before completed.\u001b[39;00m\n\u001b[0;32m     77\u001b[0m \u001b[38;5;124;03m    \"\"\"\u001b[39;00m\n\u001b[1;32m---> 78\u001b[0m     \u001b[38;5;28;01mreturn\u001b[39;00m \u001b[38;5;28;43mself\u001b[39;49m\u001b[38;5;241;43m.\u001b[39;49m\u001b[43m_future\u001b[49m\u001b[38;5;241;43m.\u001b[39;49m\u001b[43mresult\u001b[49m\u001b[43m(\u001b[49m\u001b[43mtimeout\u001b[49m\u001b[38;5;241;43m=\u001b[39;49m\u001b[43mtimeout\u001b[49m\u001b[43m)\u001b[49m\n",
      "File \u001b[1;32m~\\anaconda3\\envs\\heia\\lib\\concurrent\\futures\\_base.py:453\u001b[0m, in \u001b[0;36mFuture.result\u001b[1;34m(self, timeout)\u001b[0m\n\u001b[0;32m    450\u001b[0m \u001b[38;5;28;01melif\u001b[39;00m \u001b[38;5;28mself\u001b[39m\u001b[38;5;241m.\u001b[39m_state \u001b[38;5;241m==\u001b[39m FINISHED:\n\u001b[0;32m    451\u001b[0m     \u001b[38;5;28;01mreturn\u001b[39;00m \u001b[38;5;28mself\u001b[39m\u001b[38;5;241m.\u001b[39m__get_result()\n\u001b[1;32m--> 453\u001b[0m \u001b[38;5;28;43mself\u001b[39;49m\u001b[38;5;241;43m.\u001b[39;49m\u001b[43m_condition\u001b[49m\u001b[38;5;241;43m.\u001b[39;49m\u001b[43mwait\u001b[49m\u001b[43m(\u001b[49m\u001b[43mtimeout\u001b[49m\u001b[43m)\u001b[49m\n\u001b[0;32m    455\u001b[0m \u001b[38;5;28;01mif\u001b[39;00m \u001b[38;5;28mself\u001b[39m\u001b[38;5;241m.\u001b[39m_state \u001b[38;5;129;01min\u001b[39;00m [CANCELLED, CANCELLED_AND_NOTIFIED]:\n\u001b[0;32m    456\u001b[0m     \u001b[38;5;28;01mraise\u001b[39;00m CancelledError()\n",
      "File \u001b[1;32m~\\anaconda3\\envs\\heia\\lib\\threading.py:320\u001b[0m, in \u001b[0;36mCondition.wait\u001b[1;34m(self, timeout)\u001b[0m\n\u001b[0;32m    318\u001b[0m \u001b[38;5;28;01mtry\u001b[39;00m:    \u001b[38;5;66;03m# restore state no matter what (e.g., KeyboardInterrupt)\u001b[39;00m\n\u001b[0;32m    319\u001b[0m     \u001b[38;5;28;01mif\u001b[39;00m timeout \u001b[38;5;129;01mis\u001b[39;00m \u001b[38;5;28;01mNone\u001b[39;00m:\n\u001b[1;32m--> 320\u001b[0m         \u001b[43mwaiter\u001b[49m\u001b[38;5;241;43m.\u001b[39;49m\u001b[43macquire\u001b[49m\u001b[43m(\u001b[49m\u001b[43m)\u001b[49m\n\u001b[0;32m    321\u001b[0m         gotit \u001b[38;5;241m=\u001b[39m \u001b[38;5;28;01mTrue\u001b[39;00m\n\u001b[0;32m    322\u001b[0m     \u001b[38;5;28;01melse\u001b[39;00m:\n",
      "\u001b[1;31mKeyboardInterrupt\u001b[0m: "
     ]
    }
   ],
   "source": [
    "##Gradient descent\n",
    "epochs = 200\n",
    "theta = np.random.randn(2)\n",
    "for epoch in range(epochs):\n",
    "    print(epoch,get_energy(theta,2))\n",
    "    grad = np.zeros_like(theta)\n",
    "    \n",
    "    for idx in range(theta.shape[0]):\n",
    "        theta_temp = theta.copy()\n",
    "        theta_temp[idx] += np.pi/20\n",
    "        E_plus = get_energy(theta_temp)\n",
    "        theta_temp[idx] -= np.pi/10\n",
    "        E_minus = get_energy(theta_temp)\n",
    "        grad[idx] = (E_plus - E_minus)/2\n",
    "    theta -= 0.1*grad"
   ]
  },
  {
   "cell_type": "code",
   "execution_count": 84,
   "id": "09af4805",
   "metadata": {},
   "outputs": [
    {
     "ename": "AttributeError",
     "evalue": "'numpy.ndarray' object has no attribute 'num_qubits'",
     "output_type": "error",
     "traceback": [
      "\u001b[1;31m---------------------------------------------------------------------------\u001b[0m",
      "\u001b[1;31mAttributeError\u001b[0m                            Traceback (most recent call last)",
      "Cell \u001b[1;32mIn[84], line 17\u001b[0m\n\u001b[0;32m     15\u001b[0m     vec \u001b[38;5;241m=\u001b[39m Aer\u001b[38;5;241m.\u001b[39mget_backend(\u001b[38;5;124m'\u001b[39m\u001b[38;5;124mstatevector_simulator\u001b[39m\u001b[38;5;124m'\u001b[39m)\n\u001b[0;32m     16\u001b[0m     vqe \u001b[38;5;241m=\u001b[39m VQE(ansatz\u001b[38;5;241m=\u001b[39mansatz([\u001b[38;5;241m0.1\u001b[39m,\u001b[38;5;241m0.2\u001b[39m],\u001b[38;5;241m2\u001b[39m),optimizer\u001b[38;5;241m=\u001b[39madam, estimator\u001b[38;5;241m=\u001b[39mEstimator)\n\u001b[1;32m---> 17\u001b[0m     result \u001b[38;5;241m=\u001b[39m \u001b[43mvqe\u001b[49m\u001b[38;5;241;43m.\u001b[39;49m\u001b[43mcompute_minimum_eigenvalue\u001b[49m\u001b[43m(\u001b[49m\u001b[43mH\u001b[49m\u001b[43m)\u001b[49m\n\u001b[0;32m     18\u001b[0m     LM_sim\u001b[38;5;241m.\u001b[39mappend(result\u001b[38;5;241m.\u001b[39meigenvalue)\n\u001b[0;32m     21\u001b[0m plt\u001b[38;5;241m.\u001b[39mplot(chi,np\u001b[38;5;241m.\u001b[39marray(exact),label\u001b[38;5;241m=\u001b[39m\u001b[38;5;124m'\u001b[39m\u001b[38;5;124m$E_\u001b[39m\u001b[38;5;132;01m{exact}\u001b[39;00m\u001b[38;5;124m$\u001b[39m\u001b[38;5;124m'\u001b[39m,color\u001b[38;5;241m=\u001b[39m\u001b[38;5;124m'\u001b[39m\u001b[38;5;124mb\u001b[39m\u001b[38;5;124m'\u001b[39m)\n",
      "File \u001b[1;32m~\\anaconda3\\envs\\heia\\lib\\site-packages\\qiskit\\algorithms\\minimum_eigensolvers\\vqe.py:166\u001b[0m, in \u001b[0;36mVQE.compute_minimum_eigenvalue\u001b[1;34m(self, operator, aux_operators)\u001b[0m\n\u001b[0;32m    161\u001b[0m \u001b[38;5;28;01mdef\u001b[39;00m \u001b[38;5;21mcompute_minimum_eigenvalue\u001b[39m(\n\u001b[0;32m    162\u001b[0m     \u001b[38;5;28mself\u001b[39m,\n\u001b[0;32m    163\u001b[0m     operator: BaseOperator \u001b[38;5;241m|\u001b[39m PauliSumOp,\n\u001b[0;32m    164\u001b[0m     aux_operators: ListOrDict[BaseOperator \u001b[38;5;241m|\u001b[39m PauliSumOp] \u001b[38;5;241m|\u001b[39m \u001b[38;5;28;01mNone\u001b[39;00m \u001b[38;5;241m=\u001b[39m \u001b[38;5;28;01mNone\u001b[39;00m,\n\u001b[0;32m    165\u001b[0m ) \u001b[38;5;241m-\u001b[39m\u001b[38;5;241m>\u001b[39m VQEResult:\n\u001b[1;32m--> 166\u001b[0m     \u001b[38;5;28;43mself\u001b[39;49m\u001b[38;5;241;43m.\u001b[39;49m\u001b[43m_check_operator_ansatz\u001b[49m\u001b[43m(\u001b[49m\u001b[43moperator\u001b[49m\u001b[43m)\u001b[49m\n\u001b[0;32m    168\u001b[0m     initial_point \u001b[38;5;241m=\u001b[39m validate_initial_point(\u001b[38;5;28mself\u001b[39m\u001b[38;5;241m.\u001b[39minitial_point, \u001b[38;5;28mself\u001b[39m\u001b[38;5;241m.\u001b[39mansatz)\n\u001b[0;32m    170\u001b[0m     bounds \u001b[38;5;241m=\u001b[39m validate_bounds(\u001b[38;5;28mself\u001b[39m\u001b[38;5;241m.\u001b[39mansatz)\n",
      "File \u001b[1;32m~\\anaconda3\\envs\\heia\\lib\\site-packages\\qiskit\\algorithms\\minimum_eigensolvers\\vqe.py:306\u001b[0m, in \u001b[0;36mVQE._check_operator_ansatz\u001b[1;34m(self, operator)\u001b[0m\n\u001b[0;32m    302\u001b[0m \u001b[38;5;28;01mdef\u001b[39;00m \u001b[38;5;21m_check_operator_ansatz\u001b[39m(\u001b[38;5;28mself\u001b[39m, operator: BaseOperator \u001b[38;5;241m|\u001b[39m PauliSumOp):\n\u001b[0;32m    303\u001b[0m \u001b[38;5;250m    \u001b[39m\u001b[38;5;124;03m\"\"\"Check that the number of qubits of operator and ansatz match and that the ansatz is\u001b[39;00m\n\u001b[0;32m    304\u001b[0m \u001b[38;5;124;03m    parameterized.\u001b[39;00m\n\u001b[0;32m    305\u001b[0m \u001b[38;5;124;03m    \"\"\"\u001b[39;00m\n\u001b[1;32m--> 306\u001b[0m     \u001b[38;5;28;01mif\u001b[39;00m \u001b[43moperator\u001b[49m\u001b[38;5;241;43m.\u001b[39;49m\u001b[43mnum_qubits\u001b[49m \u001b[38;5;241m!=\u001b[39m \u001b[38;5;28mself\u001b[39m\u001b[38;5;241m.\u001b[39mansatz\u001b[38;5;241m.\u001b[39mnum_qubits:\n\u001b[0;32m    307\u001b[0m         \u001b[38;5;28;01mtry\u001b[39;00m:\n\u001b[0;32m    308\u001b[0m             logger\u001b[38;5;241m.\u001b[39minfo(\n\u001b[0;32m    309\u001b[0m                 \u001b[38;5;124m\"\u001b[39m\u001b[38;5;124mTrying to resize ansatz to match operator on \u001b[39m\u001b[38;5;132;01m%s\u001b[39;00m\u001b[38;5;124m qubits.\u001b[39m\u001b[38;5;124m\"\u001b[39m, operator\u001b[38;5;241m.\u001b[39mnum_qubits\n\u001b[0;32m    310\u001b[0m             )\n",
      "\u001b[1;31mAttributeError\u001b[0m: 'numpy.ndarray' object has no attribute 'num_qubits'"
     ]
    }
   ],
   "source": [
    "\n",
    "#from qiskit_ibm_runtime import QiskitRuntimeService, Estimator\n",
    "#converts chi to V\n",
    "def Vp(E,omega,chi):\n",
    "    return (chi*E)/(omega-1)\n",
    "epsilon = 1\n",
    "omega = 2\n",
    "chi5 = np.arange(0,2.1,0.1)\n",
    "adam =qk.algorithms.optimizers.ADAM(maxiter=10000)\n",
    "LM_sim = []\n",
    "\n",
    "for x in chi5:\n",
    "    v = Vp(epsilon,omega,x)\n",
    "    H = 0.5 * epsilon * np.kron(Z,I) +0.5 * epsilon * np.kron(I,Z)-0.5 * v * np.kron(X,X) + 0.5 * v * np.kron(Y,Y)\n",
    "    vec = Aer.get_backend('statevector_simulator')\n",
    "    vqe = VQE(ansatz=ansatz([0.1,0.2],2),optimizer=adam, estimator=Estimator)\n",
    "    result = vqe.compute_minimum_eigenvalue(H)\n",
    "    LM_sim.append(result.eigenvalue)\n",
    "\n",
    "\n",
    "plt.plot(chi,np.array(exact),label='$E_{exact}$',color='b')\n",
    "plt.plot(chi,np.array(HF),label='$E_{HF}$',color='g')\n",
    "plt.scatter(chi5,LM_sim,label='QC state vec',color='cyan')\n",
    "plt.axvline(1, color = 'k', linestyle='--')\n",
    "plt.ylabel('$E_{g.s}$')\n",
    "plt.xlabel('$\\chi$')\n",
    "plt.title('$\\Omega=2$')\n",
    "plt.legend()"
   ]
  }
 ],
 "metadata": {
  "kernelspec": {
   "display_name": "Python 3 (ipykernel)",
   "language": "python",
   "name": "python3"
  },
  "language_info": {
   "codemirror_mode": {
    "name": "ipython",
    "version": 3
   },
   "file_extension": ".py",
   "mimetype": "text/x-python",
   "name": "python",
   "nbconvert_exporter": "python",
   "pygments_lexer": "ipython3",
   "version": "3.10.9"
  }
 },
 "nbformat": 4,
 "nbformat_minor": 5
}
