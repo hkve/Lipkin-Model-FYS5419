{
 "cells": [
  {
   "cell_type": "markdown",
   "id": "3e8edfcf",
   "metadata": {},
   "source": [
    "# Vårt superprosjekt"
   ]
  },
  {
   "cell_type": "markdown",
   "id": "756eb692",
   "metadata": {},
   "source": [
    "## a\n",
    "\n",
    "We initalize and test the functionality of Qiskit as follows"
   ]
  },
  {
   "cell_type": "code",
   "execution_count": 34,
   "id": "3184079f",
   "metadata": {},
   "outputs": [],
   "source": [
    "from qiskit import QuantumCircuit,Aer,assemble, ClassicalRegister,QuantumRegister\n",
    "from qiskit.visualization import array_to_latex, plot_histogram\n",
    "import numpy as np\n",
    "simulator = Aer.get_backend('aer_simulator')"
   ]
  },
  {
   "cell_type": "code",
   "execution_count": 14,
   "id": "f1c77e4b",
   "metadata": {},
   "outputs": [
    {
     "data": {
      "text/html": [
       "<pre style=\"word-wrap: normal;white-space: pre;background: #fff0;line-height: 1.1;font-family: &quot;Courier New&quot;,Courier,monospace\">        ┌───┐┌───┐┌───┐┌───┐┌────────┐\n",
       "  Qreg: ┤ X ├┤ Y ├┤ Z ├┤ H ├┤ P(π/2) ├\n",
       "        └───┘└───┘└───┘└───┘└────────┘\n",
       "Creg: 1/══════════════════════════════\n",
       "                                      </pre>"
      ],
      "text/plain": [
       "        ┌───┐┌───┐┌───┐┌───┐┌────────┐\n",
       "  Qreg: ┤ X ├┤ Y ├┤ Z ├┤ H ├┤ P(π/2) ├\n",
       "        └───┘└───┘└───┘└───┘└────────┘\n",
       "Creg: 1/══════════════════════════════\n",
       "                                      "
      ]
     },
     "execution_count": 14,
     "metadata": {},
     "output_type": "execute_result"
    }
   ],
   "source": [
    "qr = QuantumRegister(1, 'Qreg')\n",
    "cr = ClassicalRegister(1, 'Creg')\n",
    "\n",
    "qc = QuantumCircuit()\n",
    "qc.add_register(qr)\n",
    "qc.add_register(cr)\n",
    "#qc.save_statevector()\n",
    "\n",
    "qc.x(0)\n",
    "qc.y(0)\n",
    "qc.z(0)\n",
    "qc.h(0)\n",
    "qc.p(np.pi/2, 0)\n",
    "\n",
    "\n",
    "qc.draw()"
   ]
  },
  {
   "cell_type": "markdown",
   "id": "d0999274",
   "metadata": {},
   "source": [
    "Initialize a Bell state by applying Haddamard to G0 and CNOT on G1, using G0 as control gate."
   ]
  },
  {
   "cell_type": "code",
   "execution_count": 38,
   "id": "0fcf0626",
   "metadata": {},
   "outputs": [
    {
     "data": {
      "text/html": [
       "<pre style=\"word-wrap: normal;white-space: pre;background: #fff0;line-height: 1.1;font-family: &quot;Courier New&quot;,Courier,monospace\">        ┌───┐      statevector ┌─┐   \n",
       "qreg_0: ┤ H ├──■────────░──────┤M├───\n",
       "        └───┘┌─┴─┐      ░      └╥┘┌─┐\n",
       "qreg_1: ─────┤ X ├──────░───────╫─┤M├\n",
       "             └───┘      ░       ║ └╥┘\n",
       "creg: 2/════════════════════════╩══╩═\n",
       "                                0  1 </pre>"
      ],
      "text/plain": [
       "        ┌───┐      statevector ┌─┐   \n",
       "qreg_0: ┤ H ├──■────────░──────┤M├───\n",
       "        └───┘┌─┴─┐      ░      └╥┘┌─┐\n",
       "qreg_1: ─────┤ X ├──────░───────╫─┤M├\n",
       "             └───┘      ░       ║ └╥┘\n",
       "creg: 2/════════════════════════╩══╩═\n",
       "                                0  1 "
      ]
     },
     "execution_count": 38,
     "metadata": {},
     "output_type": "execute_result"
    }
   ],
   "source": [
    "qc_2 = QuantumCircuit()\n",
    "\n",
    "qr_2 = QuantumRegister(2, 'qreg')\n",
    "qc_2.add_register(qr_2)\n",
    "\n",
    "cr_2 = ClassicalRegister(2, 'creg')\n",
    "qc_2.add_register(cr_2)\n",
    "qc_2.h(0)\n",
    "qc_2.cx(0,1)\n",
    "qc_2.save_statevector()\n",
    "qc_2.measure(qr_2[0], cr_2[0])\n",
    "qc_2.measure(qr_2[1], cr_2[1])\n",
    "qc_2.draw()"
   ]
  },
  {
   "cell_type": "code",
   "execution_count": 37,
   "id": "545a983e",
   "metadata": {},
   "outputs": [
    {
     "data": {
      "image/png": "[encoded data removed]",
      "text/plain": [
       "<Figure size 700x500 with 1 Axes>"
      ]
     },
     "execution_count": 37,
     "metadata": {},
     "output_type": "execute_result"
    }
   ],
   "source": [
    "job = simulator.run(qc_2, shots=1000)\n",
    "hist = job.result().get_counts()\n",
    "plot_histogram(hist)"
   ]
  },
  {
   "cell_type": "markdown",
   "id": "08347359",
   "metadata": {},
   "source": [
    "This is statistically in accordance with the expected Bell states."
   ]
  },
  {
   "cell_type": "markdown",
   "id": "29c84456",
   "metadata": {},
   "source": [
    "## b\n",
    "\n",
    "\n",
    "Here we initialize the Hamiltonian matrices and solve it using eigsolvers.\n"
   ]
  },
  {
   "cell_type": "code",
   "execution_count": 73,
   "id": "00626e34",
   "metadata": {},
   "outputs": [
    {
     "name": "stdout",
     "output_type": "stream",
     "text": [
      "[[2.         0.13333333]\n",
      " [0.13333333 2.        ]]\n",
      "\n",
      "[2.13333333 1.86666667] \n",
      "\n",
      " [[ 0.70710678 -0.70710678]\n",
      " [ 0.70710678  0.70710678]]\n"
     ]
    }
   ],
   "source": [
    "H0 = np.eye(2)\n",
    "E1 = 0; E2 = 4\n",
    "H0[0,0] = E1; H0[1,1] = E2\n",
    "\n",
    "\n",
    "H1 = np.eye(2)\n",
    "v11 = 3; v22 = -v11; v12 = 0.2; v21 = v12\n",
    "H1[0,0] = v11; H1[0,1] = v12; H1[1,0] = v21; H1[1,1] = v22 \n",
    "\n",
    "lmd_ = 2/3#Range [0,1]\n",
    "pauli_x = np.matrix([[0,1],[1,0]])\n",
    "pauli_z = np.matrix([[1,0],[0,-1]])\n",
    "c = (v11 + v22)/2\n",
    "omega_z = (v11-v22)/2\n",
    "omega_x = v12\n",
    "\n",
    "H_ = H0 + lmd_*H1\n",
    "\n",
    "print(H_)\n",
    "print()\n",
    "eig_val, eig_vec = np.linalg.eig(H_)\n",
    "print(eig_val,'\\n\\n', eig_vec)"
   ]
  }
 ],
 "metadata": {
  "kernelspec": {
   "display_name": "Python 3 (ipykernel)",
   "language": "python",
   "name": "python3"
  },
  "language_info": {
   "codemirror_mode": {
    "name": "ipython",
    "version": 3
   },
   "file_extension": ".py",
   "mimetype": "text/x-python",
   "name": "python",
   "nbconvert_exporter": "python",
   "pygments_lexer": "ipython3",
   "version": "3.10.9"
  }
 },
 "nbformat": 4,
 "nbformat_minor": 5
}
