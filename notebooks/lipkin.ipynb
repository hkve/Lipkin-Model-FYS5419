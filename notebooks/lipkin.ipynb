{
 "cells": [
  {
   "cell_type": "code",
   "execution_count": 1,
   "metadata": {},
   "outputs": [],
   "source": [
    "from qiskit import Aer\n",
    "from qiskit.circuit.library import RealAmplitudes\n",
    "from qiskit.opflow import AerPauliExpectation, PauliSumOp\n",
    "from qiskit.algorithms import VQE\n",
    "from qiskit.algorithms.optimizers import SPSA\n",
    "import numpy as np"
   ]
  },
  {
   "cell_type": "code",
   "execution_count": 5,
   "metadata": {},
   "outputs": [],
   "source": [
    "def run_vqe(ansatz, hamiltonian, maxiter=1000, vocal=False):\n",
    "    # Choose the backend\n",
    "    backend = Aer.get_backend('statevector_simulator')\n",
    "\n",
    "    # Choose the optimizer\n",
    "    optimizer = SPSA(maxiter=maxiter)\n",
    "\n",
    "    # Choose the expectation value calculator\n",
    "    expectation = AerPauliExpectation()\n",
    "\n",
    "    # Create the VQE algorithm instance\n",
    "    vqe = VQE(ansatz=ansatz,\n",
    "            optimizer=optimizer,\n",
    "            quantum_instance=backend,\n",
    "            expectation=expectation)\n",
    "\n",
    "    # Run the VQE optimization\n",
    "    result = vqe.compute_minimum_eigenvalue(operator=hamiltonian)\n",
    "    # Get the optimal energy and parameters\n",
    "    optimal_energy = result.optimal_value\n",
    "    optimal_params = result.optimal_point\n",
    "\n",
    "    # Print the results\n",
    "    if vocal:\n",
    "        print(\"Optimal Energy:\", optimal_energy)\n",
    "        print(\"Optimal Parameters:\", optimal_params)\n",
    "\n",
    "    return optimal_energy, optimal_params"
   ]
  },
  {
   "attachments": {},
   "cell_type": "markdown",
   "metadata": {},
   "source": [
    "Først $N = 2, (J = 1)$ tilfelle. Vi setter opp $3 \\times 3$ matrisen i $\\vert J, J_z \\rangle$ og finner laveste egenverdi. Deretter setter vi opp Hamiltonen med Pauli matriser og kjører VQE"
   ]
  },
  {
   "cell_type": "code",
   "execution_count": 6,
   "metadata": {},
   "outputs": [
    {
     "name": "stdout",
     "output_type": "stream",
     "text": [
      "J = 2 matrix, E/eps = -1.4866068747318506\n",
      "Closed form (eq. 24) -1.4866068747318506\n"
     ]
    }
   ],
   "source": [
    "# Setup Lipkin Hamiltonian in J scheme with N = 2\n",
    "eps, V = 1, 1.1\n",
    "\n",
    "H_exact = np.zeros((3,3))\n",
    "H_exact[0,0] = -eps\n",
    "H_exact[2,2] = eps\n",
    "H_exact[2,0] = H_exact[0,2] = -V\n",
    "\n",
    "E, C = np.linalg.eigh(H_exact)\n",
    "print(f\"J = 2 matrix, E/eps = {E[0]/eps}\")\n",
    "v = V/eps\n",
    "print(f\"Closed form (eq. 24) {-np.sqrt(eps**2 + V**2)}\")"
   ]
  },
  {
   "cell_type": "code",
   "execution_count": 7,
   "metadata": {},
   "outputs": [
    {
     "name": "stdout",
     "output_type": "stream",
     "text": [
      "Optimal Energy: -1.4866058584212714\n",
      "Optimal Parameters: [1.27668105 0.68825168 2.015049   1.90933592]\n"
     ]
    }
   ],
   "source": [
    "# Define the ansatz circuit\n",
    "ansatz = RealAmplitudes(num_qubits=2, entanglement='linear', reps=1)\n",
    "\n",
    "# J = 2 lipkin hamiltonian (eq. 62)\n",
    "hamiltonian = PauliSumOp.from_list([\n",
    "    (\"ZI\", 0.5),\n",
    "    (\"IZ\", 0.5),\n",
    "    (\"XX\", -v/2),\n",
    "    (\"YY\", v/2)\n",
    "])\n",
    "\n",
    "_, _= run_vqe(ansatz, hamiltonian, maxiter=1000,vocal=True)"
   ]
  },
  {
   "attachments": {},
   "cell_type": "markdown",
   "metadata": {},
   "source": [
    "Så $N = 4, (J = 2)$ tilfelle. Vi setter opp $5 \\times 5$ matrisen i $\\vert J, J_z \\rangle$ og finner laveste egenverdi. Deretter setter vi opp Hamiltonen med Pauli matriser og kjører VQE"
   ]
  },
  {
   "cell_type": "code",
   "execution_count": 74,
   "metadata": {},
   "outputs": [
    {
     "name": "stdout",
     "output_type": "stream",
     "text": [
      "J = 2 matrix, E/eps = -2.1794494717703365\n",
      "v = 0.25, closed form (eq 63) E = -2.179449471770337\n"
     ]
    }
   ],
   "source": [
    "# Setup Lipkin Hamiltonian in J scheme with N = 4\n",
    "eps, V = 2, 0.5\n",
    "\n",
    "H_exact = np.zeros((5,5))\n",
    "H_exact[0,0] = -2*eps\n",
    "H_exact[1,1] = -eps\n",
    "H_exact[3,3] = eps\n",
    "H_exact[4,4] = 2*eps\n",
    "\n",
    "H_exact[2,0] = H_exact[0,2] = H_exact[2,4] = H_exact[4,2] = -np.sqrt(6)*V\n",
    "H_exact[3,1] = H_exact[1,3] = -3*V\n",
    "\n",
    "E, C = np.linalg.eigh(H_exact)\n",
    "print(f\"J = 2 matrix, E/eps = {E[0]/eps}\")\n",
    "v = V/eps\n",
    "print(f\"{v = }, closed form (eq 63) E = {-2*np.sqrt(3*v**2+1)}\")"
   ]
  },
  {
   "cell_type": "code",
   "execution_count": 75,
   "metadata": {},
   "outputs": [
    {
     "name": "stdout",
     "output_type": "stream",
     "text": [
      "J = 2 matrix, E/eps = -2.1794494717703365\n",
      "v = 0.25, closed form (eq 63) E = -2.179449471770337\n"
     ]
    }
   ],
   "source": [
    "# Setup Lipkin Hamiltonian in J scheme with N = 4\n",
    "eps, V = 2, 0.5\n",
    "\n",
    "H_exact = np.zeros((5,5))\n",
    "H_exact[0,0] = -2*eps\n",
    "H_exact[1,1] = -eps\n",
    "H_exact[3,3] = eps\n",
    "H_exact[4,4] = 2*eps\n",
    "\n",
    "H_exact[2,0] = H_exact[0,2] = H_exact[2,4] = H_exact[4,2] = -np.sqrt(6)*V\n",
    "H_exact[3,1] = H_exact[1,3] = -3*V\n",
    "\n",
    "E, C = np.linalg.eigh(H_exact)\n",
    "print(f\"J = 2 matrix, E/eps = {E[0]/eps}\")\n",
    "v = V/eps\n",
    "print(f\"{v = }, closed form (eq 63) E = {-2*np.sqrt(3*v**2+1)}\")"
   ]
  },
  {
   "cell_type": "code",
   "execution_count": 76,
   "metadata": {},
   "outputs": [
    {
     "name": "stdout",
     "output_type": "stream",
     "text": [
      "Optimal Energy: -2.1794443964385635\n",
      "Optimal Parameters: [ 3.04077711  0.68710579 -2.5086088  -2.42707604]\n"
     ]
    }
   ],
   "source": [
    "# Define the ansatz circuit\n",
    "ansatz = RealAmplitudes(num_qubits=2, entanglement='linear', reps=1)\n",
    "v_prime = v * np.sqrt(6)/2\n",
    "\n",
    "# J = 2 lipkin hamiltonian (eq. 62)\n",
    "hamiltonian = PauliSumOp.from_list([\n",
    "    (\"ZI\", -1),\n",
    "    (\"IZ\", -1),\n",
    "    (\"XI\", -v_prime),\n",
    "    (\"IX\", -v_prime),\n",
    "    (\"ZX\", -v_prime),\n",
    "    (\"XZ\", v_prime)\n",
    "])\n",
    "\n",
    "_, _= run_vqe(ansatz, hamiltonian, maxiter=1000,vocal=True)"
   ]
  },
  {
   "cell_type": "code",
   "execution_count": null,
   "metadata": {},
   "outputs": [],
   "source": []
  }
 ],
 "metadata": {
  "kernelspec": {
   "display_name": "Python 3",
   "language": "python",
   "name": "python3"
  },
  "language_info": {
   "codemirror_mode": {
    "name": "ipython",
    "version": 3
   },
   "file_extension": ".py",
   "mimetype": "text/x-python",
   "name": "python",
   "nbconvert_exporter": "python",
   "pygments_lexer": "ipython3",
   "version": "3.10.6"
  },
  "orig_nbformat": 4
 },
 "nbformat": 4,
 "nbformat_minor": 2
}
