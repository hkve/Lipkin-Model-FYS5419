{
 "cells": [
  {
   "cell_type": "code",
   "execution_count": 1,
   "metadata": {},
   "outputs": [],
   "source": [
    "import numpy as np\n",
    "import qiskit\n",
    "from qiskit.visualization import circuit_drawer\n",
    "from qiskit.quantum_info import Statevector\n",
    "from matplotlib.pyplot import figure\n",
    "from qiskit import QuantumRegister, QuantumCircuit, ClassicalRegister, Aer, assemble\n",
    "from qiskit.providers.aer.noise import NoiseModel\n",
    "import pylatexenc\n",
    "from qiskit.algorithms import VQE\n",
    "from qiskit.utils import QuantumInstance\n",
    "from qiskit.opflow import X, Z, I, Y\n",
    "from qiskit.circuit import Parameter\n",
    "from qiskit.algorithms.optimizers import ADAM\n",
    "from qiskit.opflow import AerPauliExpectation\n",
    "from qiskit import IBMQ\n",
    "import cmath\n",
    "import pandas as pd\n",
    "from scipy.sparse import diags\n",
    "import numpy.linalg as LA\n",
    "import matplotlib.pyplot as plt\n",
    "from IPython.display import Image\n",
    "import warnings\n",
    "warnings.filterwarnings('ignore')\n",
    "pi=np.pi"
   ]
  },
  {
   "cell_type": "code",
   "execution_count": 23,
   "metadata": {},
   "outputs": [
    {
     "data": {
      "text/plain": [
       "-2.0615528128088303"
      ]
     },
     "execution_count": 23,
     "metadata": {},
     "output_type": "execute_result"
    }
   ],
   "source": [
    "eps, V = 2, 0.5\n",
    "H_exact = np.zeros((3,3))\n",
    "H_exact[0,0] = -eps\n",
    "H_exact[2,2] = eps\n",
    "H_exact[2,0] = H_exact[0,2] = -V\n",
    "\n",
    "E, C = np.linalg.eigh(H_exact)\n",
    "E[0] # Ground state to recreate"
   ]
  },
  {
   "cell_type": "code",
   "execution_count": 16,
   "metadata": {},
   "outputs": [
    {
     "data": {
      "text/plain": [
       "(-2.0615528127586717+0j)"
      ]
     },
     "execution_count": 16,
     "metadata": {},
     "output_type": "execute_result"
    }
   ],
   "source": [
    "def LM_circuit():\n",
    "    theta = Parameter('theta')\n",
    "    QC = QuantumCircuit(2)\n",
    "    QC.ry(theta,0) # 2*(theta-np.pi/2)\n",
    "    QC.cnot(0,1)\n",
    "    return QC\n",
    "\n",
    "\n",
    "adam = qiskit.algorithms.optimizers.ADAM(maxiter=10000)\n",
    "\n",
    "H = 0.5 * eps * ( Z ^ I ) +0.5 * eps * ( I ^ Z )-0.5 * V * ( X ^ X ) + 0.5 * V *  ( Y ^ Y )\n",
    "vec = Aer.get_backend('statevector_simulator')\n",
    "vqe = VQE(ansatz=LM_circuit(),optimizer=adam,quantum_instance=vec,expectation=AerPauliExpectation())\n",
    "result = vqe.compute_minimum_eigenvalue(H)\n",
    "\n",
    "result.eigenvalue"
   ]
  },
  {
   "cell_type": "code",
   "execution_count": 26,
   "metadata": {},
   "outputs": [
    {
     "data": {
      "text/plain": [
       "-3.5"
      ]
     },
     "execution_count": 26,
     "metadata": {},
     "output_type": "execute_result"
    }
   ],
   "source": [
    "eps, V = 2, 0.5\n",
    "H_exact = np.zeros((5,5))\n",
    "H_exact[0,0] = H_exact[1,1] = -eps\n",
    "H_exact[3,3] = H_exact[4,4] = -eps\n",
    "\n",
    "H_exact[2,0] = H_exact[0,2] = H_exact[2,4] = H_exact[4,2] = np.sqrt(6)*V\n",
    "H_exact[3,1] = H_exact[1,3] = 3*V\n",
    "\n",
    "E, C = np.linalg.eigh(H_exact)\n",
    "E[0] # Ground state to recreate"
   ]
  },
  {
   "cell_type": "code",
   "execution_count": 32,
   "metadata": {},
   "outputs": [
    {
     "ename": "ValueError",
     "evalue": "Sum over operators with different numbers of qubits, 3 and 5, is not well defined",
     "output_type": "error",
     "traceback": [
      "\u001b[0;31m---------------------------------------------------------------------------\u001b[0m",
      "\u001b[0;31mValueError\u001b[0m                                Traceback (most recent call last)",
      "\u001b[1;32m/home/hakon/Documents/skole/sem2/Lipkin-Model-FYS5419/Sandkasse/lipkinJ1.ipynb Cell 5\u001b[0m in \u001b[0;36m1\n\u001b[1;32m      <a href='vscode-notebook-cell:/home/hakon/Documents/skole/sem2/Lipkin-Model-FYS5419/Sandkasse/lipkinJ1.ipynb#W2sZmlsZQ%3D%3D?line=5'>6</a>\u001b[0m     \u001b[39mreturn\u001b[39;00m QC\n\u001b[1;32m      <a href='vscode-notebook-cell:/home/hakon/Documents/skole/sem2/Lipkin-Model-FYS5419/Sandkasse/lipkinJ1.ipynb#W2sZmlsZQ%3D%3D?line=7'>8</a>\u001b[0m adam \u001b[39m=\u001b[39m qiskit\u001b[39m.\u001b[39malgorithms\u001b[39m.\u001b[39moptimizers\u001b[39m.\u001b[39mADAM(maxiter\u001b[39m=\u001b[39m\u001b[39m10000\u001b[39m)\n\u001b[0;32m---> <a href='vscode-notebook-cell:/home/hakon/Documents/skole/sem2/Lipkin-Model-FYS5419/Sandkasse/lipkinJ1.ipynb#W2sZmlsZQ%3D%3D?line=9'>10</a>\u001b[0m H \u001b[39m=\u001b[39m \u001b[39m-\u001b[39;49m(Z \u001b[39m^\u001b[39;49m I \u001b[39m+\u001b[39;49m I \u001b[39m^\u001b[39;49m Z) \u001b[39m-\u001b[39;49m V \u001b[39m*\u001b[39;49m (X \u001b[39m^\u001b[39;49m I \u001b[39m+\u001b[39;49m I \u001b[39m^\u001b[39;49m X \u001b[39m+\u001b[39;49m Z \u001b[39m^\u001b[39;49m X \u001b[39m-\u001b[39;49m X \u001b[39m^\u001b[39;49m Z)\n\u001b[1;32m     <a href='vscode-notebook-cell:/home/hakon/Documents/skole/sem2/Lipkin-Model-FYS5419/Sandkasse/lipkinJ1.ipynb#W2sZmlsZQ%3D%3D?line=10'>11</a>\u001b[0m \u001b[39m# H = qiskit.Operator(H)\u001b[39;00m\n\u001b[1;32m     <a href='vscode-notebook-cell:/home/hakon/Documents/skole/sem2/Lipkin-Model-FYS5419/Sandkasse/lipkinJ1.ipynb#W2sZmlsZQ%3D%3D?line=11'>12</a>\u001b[0m vec \u001b[39m=\u001b[39m Aer\u001b[39m.\u001b[39mget_backend(\u001b[39m'\u001b[39m\u001b[39mstatevector_simulator\u001b[39m\u001b[39m'\u001b[39m)\n",
      "File \u001b[0;32m~/.local/lib/python3.10/site-packages/qiskit/opflow/mixins/star_algebra.py:76\u001b[0m, in \u001b[0;36mStarAlgebraMixin.__sub__\u001b[0;34m(self, other)\u001b[0m\n\u001b[1;32m     75\u001b[0m \u001b[39mdef\u001b[39;00m \u001b[39m__sub__\u001b[39m(\u001b[39mself\u001b[39m, other):\n\u001b[0;32m---> 76\u001b[0m     \u001b[39mreturn\u001b[39;00m \u001b[39mself\u001b[39;49m\u001b[39m.\u001b[39;49madd(\u001b[39m-\u001b[39;49mother)\n",
      "File \u001b[0;32m~/.local/lib/python3.10/site-packages/qiskit/opflow/primitive_ops/pauli_op.py:60\u001b[0m, in \u001b[0;36mPauliOp.add\u001b[0;34m(self, other)\u001b[0m\n\u001b[1;32m     58\u001b[0m \u001b[39mdef\u001b[39;00m \u001b[39madd\u001b[39m(\u001b[39mself\u001b[39m, other: OperatorBase) \u001b[39m-\u001b[39m\u001b[39m>\u001b[39m OperatorBase:\n\u001b[1;32m     59\u001b[0m     \u001b[39mif\u001b[39;00m \u001b[39mnot\u001b[39;00m \u001b[39mself\u001b[39m\u001b[39m.\u001b[39mnum_qubits \u001b[39m==\u001b[39m other\u001b[39m.\u001b[39mnum_qubits:\n\u001b[0;32m---> 60\u001b[0m         \u001b[39mraise\u001b[39;00m \u001b[39mValueError\u001b[39;00m(\n\u001b[1;32m     61\u001b[0m             \u001b[39m\"\u001b[39m\u001b[39mSum over operators with different numbers of qubits, \u001b[39m\u001b[39m{}\u001b[39;00m\u001b[39m and \u001b[39m\u001b[39m{}\u001b[39;00m\u001b[39m, is not well \u001b[39m\u001b[39m\"\u001b[39m\n\u001b[1;32m     62\u001b[0m             \u001b[39m\"\u001b[39m\u001b[39mdefined\u001b[39m\u001b[39m\"\u001b[39m\u001b[39m.\u001b[39mformat(\u001b[39mself\u001b[39m\u001b[39m.\u001b[39mnum_qubits, other\u001b[39m.\u001b[39mnum_qubits)\n\u001b[1;32m     63\u001b[0m         )\n\u001b[1;32m     65\u001b[0m     \u001b[39mif\u001b[39;00m \u001b[39misinstance\u001b[39m(other, PauliOp) \u001b[39mand\u001b[39;00m \u001b[39mself\u001b[39m\u001b[39m.\u001b[39mprimitive \u001b[39m==\u001b[39m other\u001b[39m.\u001b[39mprimitive:\n\u001b[1;32m     66\u001b[0m         \u001b[39mreturn\u001b[39;00m PauliOp(\u001b[39mself\u001b[39m\u001b[39m.\u001b[39mprimitive, coeff\u001b[39m=\u001b[39m\u001b[39mself\u001b[39m\u001b[39m.\u001b[39mcoeff \u001b[39m+\u001b[39m other\u001b[39m.\u001b[39mcoeff)\n",
      "\u001b[0;31mValueError\u001b[0m: Sum over operators with different numbers of qubits, 3 and 5, is not well defined"
     ]
    }
   ],
   "source": [
    "def LM_circuit():\n",
    "    theta = Parameter('theta')\n",
    "    QC = QuantumCircuit(2)\n",
    "    QC.ry(theta,0) # 2*(theta-np.pi/2)\n",
    "    QC.cnot(0,1)\n",
    "    return QC\n",
    "\n",
    "adam = qiskit.algorithms.optimizers.ADAM(maxiter=10000)\n",
    "\n",
    "H = -(Z ^ I + I ^ Z) - V * (X ^ I + I ^ X + Z ^ X - X ^ Z)\n",
    "# H = qiskit.Operator(H)\n",
    "vec = Aer.get_backend('statevector_simulator')\n",
    "vqe = VQE(ansatz=LM_circuit(),optimizer=adam,quantum_instance=vec,expectation=AerPauliExpectation())\n",
    "result = vqe.compute_minimum_eigenvalue(H)\n",
    "\n",
    "result.eigenvalue"
   ]
  },
  {
   "cell_type": "code",
   "execution_count": null,
   "metadata": {},
   "outputs": [],
   "source": []
  }
 ],
 "metadata": {
  "kernelspec": {
   "display_name": "Python 3",
   "language": "python",
   "name": "python3"
  },
  "language_info": {
   "codemirror_mode": {
    "name": "ipython",
    "version": 3
   },
   "file_extension": ".py",
   "mimetype": "text/x-python",
   "name": "python",
   "nbconvert_exporter": "python",
   "pygments_lexer": "ipython3",
   "version": "3.10.6"
  },
  "orig_nbformat": 4
 },
 "nbformat": 4,
 "nbformat_minor": 2
}
