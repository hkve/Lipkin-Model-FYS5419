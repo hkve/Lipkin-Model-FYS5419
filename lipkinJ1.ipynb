{
 "cells": [
  {
   "cell_type": "code",
   "execution_count": 2,
   "metadata": {},
   "outputs": [],
   "source": [
    "import numpy as np\n",
    "import qiskit\n",
    "from qiskit.visualization import circuit_drawer\n",
    "from qiskit.quantum_info import Statevector\n",
    "from matplotlib.pyplot import figure\n",
    "from qiskit import QuantumRegister, QuantumCircuit, ClassicalRegister, Aer, assemble\n",
    "from qiskit.providers.aer.noise import NoiseModel\n",
    "import pylatexenc\n",
    "from qiskit.algorithms import VQE\n",
    "from qiskit.utils import QuantumInstance\n",
    "from qiskit.opflow import X, Z, I, Y\n",
    "from qiskit.circuit import Parameter\n",
    "from qiskit.algorithms.optimizers import ADAM\n",
    "from qiskit.opflow import AerPauliExpectation\n",
    "from qiskit import IBMQ\n",
    "import cmath\n",
    "import pandas as pd\n",
    "from scipy.sparse import diags\n",
    "import numpy.linalg as LA\n",
    "import matplotlib.pyplot as plt\n",
    "from IPython.display import Image\n",
    "import warnings\n",
    "warnings.filterwarnings('ignore')\n",
    "pi=np.pi"
   ]
  },
  {
   "cell_type": "code",
   "execution_count": 3,
   "metadata": {},
   "outputs": [
    {
     "data": {
      "text/plain": [
       "-2.0615528128088303"
      ]
     },
     "execution_count": 3,
     "metadata": {},
     "output_type": "execute_result"
    }
   ],
   "source": [
    "eps, V = 2, 0.5\n",
    "H_exact = np.zeros((3,3))\n",
    "H_exact[0,0] = -eps\n",
    "H_exact[2,2] = eps\n",
    "H_exact[2,0] = H_exact[0,2] = -V\n",
    "\n",
    "E, C = np.linalg.eigh(H_exact)\n",
    "E[0] # Ground state to recreate"
   ]
  },
  {
   "cell_type": "code",
   "execution_count": 16,
   "metadata": {},
   "outputs": [
    {
     "data": {
      "text/plain": [
       "(-2.0615528127586717+0j)"
      ]
     },
     "execution_count": 16,
     "metadata": {},
     "output_type": "execute_result"
    }
   ],
   "source": [
    "def LM_circuit():\n",
    "    theta = Parameter('theta')\n",
    "    QC = QuantumCircuit(2)\n",
    "    QC.ry(theta,0) # 2*(theta-np.pi/2)\n",
    "    QC.cnot(0,1)\n",
    "    return QC\n",
    "\n",
    "\n",
    "adam = qiskit.algorithms.optimizers.ADAM(maxiter=10000)\n",
    "\n",
    "H = 0.5 * eps * ( Z ^ I ) +0.5 * eps * ( I ^ Z )-0.5 * V * ( X ^ X ) + 0.5 * V *  ( Y ^ Y )\n",
    "vec = Aer.get_backend('statevector_simulator')\n",
    "vqe = VQE(ansatz=LM_circuit(),optimizer=adam,quantum_instance=vec,expectation=AerPauliExpectation())\n",
    "result = vqe.compute_minimum_eigenvalue(H)\n",
    "\n",
    "result.eigenvalue"
   ]
  },
  {
   "cell_type": "code",
   "execution_count": 14,
   "metadata": {},
   "outputs": [
    {
     "data": {
      "text/plain": [
       "-3.5"
      ]
     },
     "execution_count": 14,
     "metadata": {},
     "output_type": "execute_result"
    }
   ],
   "source": [
    "eps, V = 2, 0.5\n",
    "H_exact = np.zeros((5,5))\n",
    "H_exact[0,0] = H_exact[1,1] = -eps\n",
    "H_exact[3,3] = H_exact[4,4] = -eps\n",
    "\n",
    "H_exact[2,0] = H_exact[0,2] = H_exact[2,4] = H_exact[4,2] = np.sqrt(6)*V\n",
    "H_exact[3,1] = H_exact[1,3] = 3*V\n",
    "\n",
    "E, C = np.linalg.eigh(H_exact)\n",
    "E[0] # Ground state to recreate"
   ]
  },
  {
   "cell_type": "code",
   "execution_count": 15,
   "metadata": {},
   "outputs": [
    {
     "data": {
      "text/plain": [
       "(-1.9999996963659297+0j)"
      ]
     },
     "execution_count": 15,
     "metadata": {},
     "output_type": "execute_result"
    }
   ],
   "source": [
    "def LM_circuit():\n",
    "    theta = Parameter('theta')\n",
    "    QC = QuantumCircuit(2)\n",
    "    QC.ry(2*(theta-np.pi/2),0) # 2*(theta-np.pi/2)\n",
    "    QC.cnot(0,1)\n",
    "    return QC\n",
    "\n",
    "adam = qiskit.algorithms.optimizers.ADAM(maxiter=10000)\n",
    "\n",
    "H = -( (Z ^ I) + (I ^ Z) ) - np.sqrt(6)/2 * V * ( (X ^ I) + (I ^ X) + (Z ^ X) - (X ^ Z))\n",
    "vec = Aer.get_backend('statevector_simulator')\n",
    "vqe = VQE(ansatz=LM_circuit(),optimizer=adam,quantum_instance=vec,expectation=AerPauliExpectation())\n",
    "result = vqe.compute_minimum_eigenvalue(H)\n",
    "\n",
    "result.eigenvalue"
   ]
  },
  {
   "cell_type": "code",
   "execution_count": null,
   "metadata": {},
   "outputs": [],
   "source": []
  }
 ],
 "metadata": {
  "kernelspec": {
   "display_name": "Python 3",
   "language": "python",
   "name": "python3"
  },
  "language_info": {
   "codemirror_mode": {
    "name": "ipython",
    "version": 3
   },
   "file_extension": ".py",
   "mimetype": "text/x-python",
   "name": "python",
   "nbconvert_exporter": "python",
   "pygments_lexer": "ipython3",
   "version": "3.10.6"
  },
  "orig_nbformat": 4
 },
 "nbformat": 4,
 "nbformat_minor": 2
}
