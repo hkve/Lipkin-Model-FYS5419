{
 "cells": [
  {
   "cell_type": "code",
   "execution_count": 1,
   "metadata": {},
   "outputs": [],
   "source": [
    "from qiskit import Aer\n",
    "from qiskit.circuit.library import RealAmplitudes\n",
    "from qiskit.opflow import AerPauliExpectation, PauliSumOp\n",
    "from qiskit.algorithms import VQE\n",
    "from qiskit.algorithms.optimizers import SPSA\n",
    "import numpy as np"
   ]
  },
  {
   "cell_type": "code",
   "execution_count": 39,
   "metadata": {},
   "outputs": [
    {
     "name": "stdout",
     "output_type": "stream",
     "text": [
      "-1.061219865409725\n"
     ]
    }
   ],
   "source": [
    "# Define the ansatz circuit\n",
    "ansatz = RealAmplitudes(num_qubits=2, entanglement='linear', reps=1)\n",
    "\n",
    "V = 0.5\n",
    "W = 1.2\n",
    "eps = 10\n",
    "\n",
    "v = V/eps\n",
    "w = W/eps\n",
    "\n",
    "sp = 0.5\n",
    "t1 = 0.5*(w+v)\n",
    "t2 = 0.5*(w-v)\n",
    "\n",
    "hamiltonian = PauliSumOp.from_list([\n",
    "    (\"ZI\", sp),\n",
    "    (\"IZ\", sp),\n",
    "    (\"XX\", t1),\n",
    "    (\"YY\", t2),\n",
    "    (\"II\", -0.5*w)\n",
    "])\n",
    "\n",
    "# Choose the backend\n",
    "backend = Aer.get_backend('statevector_simulator')\n",
    "\n",
    "# Choose the optimizer\n",
    "optimizer = SPSA(maxiter=1000)\n",
    "\n",
    "# Choose the expectation value calculator\n",
    "expectation = AerPauliExpectation()\n",
    "\n",
    "# Create the VQE algorithm instance\n",
    "vqe = VQE(ansatz=ansatz,\n",
    "          optimizer=optimizer,\n",
    "          quantum_instance=backend,\n",
    "          expectation=expectation)\n",
    "\n",
    "# Run the VQE optimization\n",
    "result = vqe.compute_minimum_eigenvalue(operator=hamiltonian)\n",
    "\n",
    "# Get the optimal energy and parameters\n",
    "optimal_energy = result.optimal_value\n",
    "optimal_params = result.optimal_point\n",
    "\n",
    "print(optimal_energy)\n"
   ]
  },
  {
   "cell_type": "code",
   "execution_count": 40,
   "metadata": {},
   "outputs": [
    {
     "name": "stdout",
     "output_type": "stream",
     "text": [
      "[[-10.    0.    0.5]\n",
      " [  0.    1.2   0. ]\n",
      " [  0.5   0.   10. ]]\n",
      "[-1.00124922  0.12        1.00124922]\n"
     ]
    }
   ],
   "source": [
    "H = np.zeros((3,3))\n",
    "H[0,0] = -eps\n",
    "H[1,1] = W\n",
    "H[2,2] = eps\n",
    "\n",
    "H[2,0] = H[0,2] = V\n",
    "\n",
    "print(H)\n",
    "E, _ = np.linalg.eigh(H)\n",
    "\n",
    "print(E/eps)"
   ]
  },
  {
   "cell_type": "code",
   "execution_count": 2,
   "metadata": {},
   "outputs": [
    {
     "name": "stdout",
     "output_type": "stream",
     "text": [
      "Optimal Energy: -2.1794365424821875\n",
      "-2.179449471770337\n",
      "Optimal Parameters: [-3.01995293  4.0386523   3.80529983  0.92547126]\n"
     ]
    }
   ],
   "source": [
    "# Define the ansatz circuit\n",
    "ansatz = RealAmplitudes(num_qubits=2, entanglement='linear', reps=1)\n",
    "\n",
    "# Define the Hamiltonian\n",
    "hamiltonian = PauliSumOp.from_list([('ZI', -1), ('IZ', -1), ('XZ', 1)])\n",
    "\n",
    "v = 0.25\n",
    "v_prime = v * np.sqrt(6)/2\n",
    "hamiltonian = PauliSumOp.from_list([\n",
    "    (\"ZI\", -1),\n",
    "    (\"IZ\", -1),\n",
    "    (\"XI\", -v_prime),\n",
    "    (\"IX\", -v_prime),\n",
    "    (\"ZX\", -v_prime),\n",
    "    (\"XZ\", v_prime)\n",
    "])\n",
    "\n",
    "# Choose the backend\n",
    "backend = Aer.get_backend('statevector_simulator')\n",
    "\n",
    "# Choose the optimizer\n",
    "optimizer = SPSA(maxiter=1000)\n",
    "\n",
    "# Choose the expectation value calculator\n",
    "expectation = AerPauliExpectation()\n",
    "\n",
    "# Create the VQE algorithm instance\n",
    "vqe = VQE(ansatz=ansatz,\n",
    "          optimizer=optimizer,\n",
    "          quantum_instance=backend,\n",
    "          expectation=expectation)\n",
    "\n",
    "# Run the VQE optimization\n",
    "result = vqe.compute_minimum_eigenvalue(operator=hamiltonian)\n",
    "\n",
    "# Get the optimal energy and parameters\n",
    "optimal_energy = result.optimal_value\n",
    "optimal_params = result.optimal_point\n",
    "\n",
    "# Print the results\n",
    "print(\"Optimal Energy:\", optimal_energy)\n",
    "print(-2*np.sqrt(3*v**2+1))\n",
    "print(\"Optimal Parameters:\", optimal_params)"
   ]
  },
  {
   "cell_type": "code",
   "execution_count": null,
   "metadata": {},
   "outputs": [],
   "source": []
  }
 ],
 "metadata": {
  "kernelspec": {
   "display_name": "Python 3",
   "language": "python",
   "name": "python3"
  },
  "language_info": {
   "codemirror_mode": {
    "name": "ipython",
    "version": 3
   },
   "file_extension": ".py",
   "mimetype": "text/x-python",
   "name": "python",
   "nbconvert_exporter": "python",
   "pygments_lexer": "ipython3",
   "version": "3.10.6"
  },
  "orig_nbformat": 4
 },
 "nbformat": 4,
 "nbformat_minor": 2
}
