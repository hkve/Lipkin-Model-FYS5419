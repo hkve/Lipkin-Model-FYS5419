{
 "cells": [
  {
   "cell_type": "code",
   "execution_count": 1,
   "metadata": {},
   "outputs": [],
   "source": [
    "from qiskit import Aer\n",
    "from qiskit.circuit.library import RealAmplitudes\n",
    "from qiskit.opflow import AerPauliExpectation, PauliSumOp\n",
    "from qiskit.algorithms import VQE\n",
    "from qiskit.algorithms.optimizers import SPSA\n",
    "import numpy as np"
   ]
  },
  {
   "cell_type": "code",
   "execution_count": 2,
   "metadata": {},
   "outputs": [
    {
     "ename": "TypeError",
     "evalue": "callback() takes 0 positional arguments but 5 were given",
     "output_type": "error",
     "traceback": [
      "\u001b[0;31m---------------------------------------------------------------------------\u001b[0m",
      "\u001b[0;31mTypeError\u001b[0m                                 Traceback (most recent call last)",
      "\u001b[1;32m/home/hakon/Documents/skole/sem2/Lipkin-Model-FYS5419/lipkin_test.ipynb Cell 2\u001b[0m in \u001b[0;36m4\n\u001b[1;32m     <a href='vscode-notebook-cell:/home/hakon/Documents/skole/sem2/Lipkin-Model-FYS5419/lipkin_test.ipynb#W1sZmlsZQ%3D%3D?line=35'>36</a>\u001b[0m vqe \u001b[39m=\u001b[39m VQE(ansatz\u001b[39m=\u001b[39mansatz,\n\u001b[1;32m     <a href='vscode-notebook-cell:/home/hakon/Documents/skole/sem2/Lipkin-Model-FYS5419/lipkin_test.ipynb#W1sZmlsZQ%3D%3D?line=36'>37</a>\u001b[0m           optimizer\u001b[39m=\u001b[39moptimizer,\n\u001b[1;32m     <a href='vscode-notebook-cell:/home/hakon/Documents/skole/sem2/Lipkin-Model-FYS5419/lipkin_test.ipynb#W1sZmlsZQ%3D%3D?line=37'>38</a>\u001b[0m           quantum_instance\u001b[39m=\u001b[39mbackend,\n\u001b[1;32m     <a href='vscode-notebook-cell:/home/hakon/Documents/skole/sem2/Lipkin-Model-FYS5419/lipkin_test.ipynb#W1sZmlsZQ%3D%3D?line=38'>39</a>\u001b[0m           expectation\u001b[39m=\u001b[39mexpectation)\n\u001b[1;32m     <a href='vscode-notebook-cell:/home/hakon/Documents/skole/sem2/Lipkin-Model-FYS5419/lipkin_test.ipynb#W1sZmlsZQ%3D%3D?line=40'>41</a>\u001b[0m \u001b[39m# Run the VQE optimization\u001b[39;00m\n\u001b[0;32m---> <a href='vscode-notebook-cell:/home/hakon/Documents/skole/sem2/Lipkin-Model-FYS5419/lipkin_test.ipynb#W1sZmlsZQ%3D%3D?line=41'>42</a>\u001b[0m result \u001b[39m=\u001b[39m vqe\u001b[39m.\u001b[39;49mcompute_minimum_eigenvalue(operator\u001b[39m=\u001b[39;49mhamiltonian)\n\u001b[1;32m     <a href='vscode-notebook-cell:/home/hakon/Documents/skole/sem2/Lipkin-Model-FYS5419/lipkin_test.ipynb#W1sZmlsZQ%3D%3D?line=43'>44</a>\u001b[0m \u001b[39m# Get the optimal energy and parameters\u001b[39;00m\n\u001b[1;32m     <a href='vscode-notebook-cell:/home/hakon/Documents/skole/sem2/Lipkin-Model-FYS5419/lipkin_test.ipynb#W1sZmlsZQ%3D%3D?line=44'>45</a>\u001b[0m optimal_energy \u001b[39m=\u001b[39m result\u001b[39m.\u001b[39moptimal_value\n",
      "File \u001b[0;32m~/.local/lib/python3.10/site-packages/qiskit/algorithms/minimum_eigen_solvers/vqe.py:546\u001b[0m, in \u001b[0;36mVQE.compute_minimum_eigenvalue\u001b[0;34m(self, operator, aux_operators)\u001b[0m\n\u001b[1;32m    542\u001b[0m     opt_result \u001b[39m=\u001b[39m \u001b[39mself\u001b[39m\u001b[39m.\u001b[39moptimizer(  \u001b[39m# pylint: disable=not-callable\u001b[39;00m\n\u001b[1;32m    543\u001b[0m         fun\u001b[39m=\u001b[39menergy_evaluation, x0\u001b[39m=\u001b[39minitial_point, jac\u001b[39m=\u001b[39mgradient, bounds\u001b[39m=\u001b[39mbounds\n\u001b[1;32m    544\u001b[0m     )\n\u001b[1;32m    545\u001b[0m \u001b[39melse\u001b[39;00m:\n\u001b[0;32m--> 546\u001b[0m     opt_result \u001b[39m=\u001b[39m \u001b[39mself\u001b[39;49m\u001b[39m.\u001b[39;49moptimizer\u001b[39m.\u001b[39;49mminimize(\n\u001b[1;32m    547\u001b[0m         fun\u001b[39m=\u001b[39;49menergy_evaluation, x0\u001b[39m=\u001b[39;49minitial_point, jac\u001b[39m=\u001b[39;49mgradient, bounds\u001b[39m=\u001b[39;49mbounds\n\u001b[1;32m    548\u001b[0m     )\n\u001b[1;32m    550\u001b[0m eval_time \u001b[39m=\u001b[39m time() \u001b[39m-\u001b[39m start_time\n\u001b[1;32m    552\u001b[0m result \u001b[39m=\u001b[39m VQEResult()\n",
      "File \u001b[0;32m~/.local/lib/python3.10/site-packages/qiskit/algorithms/optimizers/spsa.py:603\u001b[0m, in \u001b[0;36mSPSA.minimize\u001b[0;34m(self, fun, x0, jac, bounds)\u001b[0m\n\u001b[1;32m    600\u001b[0m         \u001b[39mself\u001b[39m\u001b[39m.\u001b[39m_nfev \u001b[39m+\u001b[39m\u001b[39m=\u001b[39m \u001b[39m1\u001b[39m\n\u001b[1;32m    601\u001b[0m         fx_next \u001b[39m=\u001b[39m fun(x_next)\n\u001b[0;32m--> 603\u001b[0m     \u001b[39mself\u001b[39;49m\u001b[39m.\u001b[39;49mcallback(\n\u001b[1;32m    604\u001b[0m         \u001b[39mself\u001b[39;49m\u001b[39m.\u001b[39;49m_nfev,  \u001b[39m# number of function evals\u001b[39;49;00m\n\u001b[1;32m    605\u001b[0m         x_next,  \u001b[39m# next parameters\u001b[39;49;00m\n\u001b[1;32m    606\u001b[0m         fx_next,  \u001b[39m# loss at next parameters\u001b[39;49;00m\n\u001b[1;32m    607\u001b[0m         np\u001b[39m.\u001b[39;49mlinalg\u001b[39m.\u001b[39;49mnorm(update),  \u001b[39m# size of the update step\u001b[39;49;00m\n\u001b[1;32m    608\u001b[0m         \u001b[39mTrue\u001b[39;49;00m,\n\u001b[1;32m    609\u001b[0m     )  \u001b[39m# accepted\u001b[39;00m\n\u001b[1;32m    611\u001b[0m \u001b[39m# update parameters\u001b[39;00m\n\u001b[1;32m    612\u001b[0m x \u001b[39m=\u001b[39m x_next\n",
      "\u001b[0;31mTypeError\u001b[0m: callback() takes 0 positional arguments but 5 were given"
     ]
    }
   ],
   "source": [
    "# Define the ansatz circuit\n",
    "ansatz = RealAmplitudes(num_qubits=2, entanglement='linear', reps=1)\n",
    "\n",
    "V = 0.5\n",
    "W = 1.2\n",
    "eps = 10\n",
    "\n",
    "v = V/eps\n",
    "w = W/eps\n",
    "\n",
    "sp = 0.5\n",
    "t1 = 0.5*(w+v)\n",
    "t2 = 0.5*(w-v)\n",
    "\n",
    "hamiltonian = PauliSumOp.from_list([\n",
    "    (\"ZI\", sp),\n",
    "    (\"IZ\", sp),\n",
    "    (\"XX\", t1),\n",
    "    (\"YY\", t2),\n",
    "    (\"II\", -0.5*w)\n",
    "])\n",
    "\n",
    "# Choose the backend\n",
    "backend = Aer.get_backend('statevector_simulator')\n",
    "\n",
    "def callback(*args):\n",
    "    print(args)\n",
    "\n",
    "# Choose the optimizer\n",
    "optimizer = SPSA(maxiter=1000, callback=callback)\n",
    "\n",
    "# Choose the expectation value calculator\n",
    "expectation = AerPauliExpectation()\n",
    "\n",
    "# Create the VQE algorithm instance\n",
    "vqe = VQE(ansatz=ansatz,\n",
    "          optimizer=optimizer,\n",
    "          quantum_instance=backend,\n",
    "          expectation=expectation)\n",
    "\n",
    "# Run the VQE optimization\n",
    "result = vqe.compute_minimum_eigenvalue(operator=hamiltonian)\n",
    "\n",
    "# Get the optimal energy and parameters\n",
    "optimal_energy = result.optimal_value\n",
    "optimal_params = result.optimal_point\n",
    "\n",
    "print(optimal_energy)\n"
   ]
  },
  {
   "cell_type": "code",
   "execution_count": 40,
   "metadata": {},
   "outputs": [
    {
     "name": "stdout",
     "output_type": "stream",
     "text": [
      "[[-10.    0.    0.5]\n",
      " [  0.    1.2   0. ]\n",
      " [  0.5   0.   10. ]]\n",
      "[-1.00124922  0.12        1.00124922]\n"
     ]
    }
   ],
   "source": [
    "H = np.zeros((3,3))\n",
    "H[0,0] = -eps\n",
    "H[1,1] = W\n",
    "H[2,2] = eps\n",
    "\n",
    "H[2,0] = H[0,2] = V\n",
    "\n",
    "print(H)\n",
    "E, _ = np.linalg.eigh(H)\n",
    "\n",
    "print(E/eps)"
   ]
  },
  {
   "cell_type": "code",
   "execution_count": 2,
   "metadata": {},
   "outputs": [
    {
     "name": "stdout",
     "output_type": "stream",
     "text": [
      "Optimal Energy: -2.1794365424821875\n",
      "-2.179449471770337\n",
      "Optimal Parameters: [-3.01995293  4.0386523   3.80529983  0.92547126]\n"
     ]
    }
   ],
   "source": [
    "# Define the ansatz circuit\n",
    "ansatz = RealAmplitudes(num_qubits=2, entanglement='linear', reps=1)\n",
    "\n",
    "# Define the Hamiltonian\n",
    "hamiltonian = PauliSumOp.from_list([('ZI', -1), ('IZ', -1), ('XZ', 1)])\n",
    "\n",
    "v = 0.25\n",
    "v_prime = v * np.sqrt(6)/2\n",
    "hamiltonian = PauliSumOp.from_list([\n",
    "    (\"ZI\", -1),\n",
    "    (\"IZ\", -1),\n",
    "    (\"XI\", -v_prime),\n",
    "    (\"IX\", -v_prime),\n",
    "    (\"ZX\", -v_prime),\n",
    "    (\"XZ\", v_prime)\n",
    "])\n",
    "\n",
    "# Choose the backend\n",
    "backend = Aer.get_backend('statevector_simulator')\n",
    "\n",
    "# Choose the optimizer\n",
    "optimizer = SPSA(maxiter=1000)\n",
    "\n",
    "# Choose the expectation value calculator\n",
    "expectation = AerPauliExpectation()\n",
    "\n",
    "# Create the VQE algorithm instance\n",
    "vqe = VQE(ansatz=ansatz,\n",
    "          optimizer=optimizer,\n",
    "          quantum_instance=backend,\n",
    "          expectation=expectation)\n",
    "\n",
    "# Run the VQE optimization\n",
    "result = vqe.compute_minimum_eigenvalue(operator=hamiltonian)\n",
    "\n",
    "# Get the optimal energy and parameters\n",
    "optimal_energy = result.optimal_value\n",
    "optimal_params = result.optimal_point\n",
    "\n",
    "# Print the results\n",
    "print(\"Optimal Energy:\", optimal_energy)\n",
    "print(-2*np.sqrt(3*v**2+1))\n",
    "print(\"Optimal Parameters:\", optimal_params)"
   ]
  },
  {
   "cell_type": "code",
   "execution_count": null,
   "metadata": {},
   "outputs": [],
   "source": []
  }
 ],
 "metadata": {
  "kernelspec": {
   "display_name": "Python 3",
   "language": "python",
   "name": "python3"
  },
  "language_info": {
   "codemirror_mode": {
    "name": "ipython",
    "version": 3
   },
   "file_extension": ".py",
   "mimetype": "text/x-python",
   "name": "python",
   "nbconvert_exporter": "python",
   "pygments_lexer": "ipython3",
   "version": "3.10.6"
  },
  "orig_nbformat": 4
 },
 "nbformat": 4,
 "nbformat_minor": 2
}
